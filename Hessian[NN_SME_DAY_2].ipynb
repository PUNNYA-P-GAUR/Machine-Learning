{
  "nbformat": 4,
  "nbformat_minor": 0,
  "metadata": {
    "colab": {
      "provenance": [],
      "include_colab_link": true
    },
    "kernelspec": {
      "name": "python3",
      "display_name": "Python 3"
    },
    "language_info": {
      "name": "python"
    }
  },
  "cells": [
    {
      "cell_type": "markdown",
      "metadata": {
        "id": "view-in-github",
        "colab_type": "text"
      },
      "source": [
        "<a href=\"https://colab.research.google.com/github/PUNNYA-P-GAUR/Machine-Learning/blob/main/Hessian%5BNN_SME_DAY_2%5D.ipynb\" target=\"_parent\"><img src=\"https://colab.research.google.com/assets/colab-badge.svg\" alt=\"Open In Colab\"/></a>"
      ]
    },
    {
      "cell_type": "markdown",
      "source": [
        "Example 1: \n",
        "In this example, we use a scalar-valued function of a single variable (univariate function). We compute the hessian of this function for an input tensor with single elements, and also input tensor with multiple elements. See how the hessian looks for these inputs for the same function. The scalar-valued function is defined for a single variable. The input is a tensor and notices that the Hessian is also a tensor.  When the input tensor has a single element the hessian is a tensor with a single element. When the input tensor has three elements, the hessian is a tensor of size [3, 3]. In the same way, the hessian for the input tensor of size [2, 2] is a tensor of size  [2,2,2,2]."
      ],
      "metadata": {
        "id": "LQGAEoJRdU8O"
      }
    },
    {
      "cell_type": "code",
      "execution_count": null,
      "metadata": {
        "colab": {
          "base_uri": "https://localhost:8080/"
        },
        "id": "kFTGq2UKdNPe",
        "outputId": "d3020451-b5ba-41a4-a487-da14cd94ad2b"
      },
      "outputs": [
        {
          "output_type": "stream",
          "name": "stdout",
          "text": [
            "Input:\n",
            " tensor([3.])\n",
            "Hessian:\n",
            " tensor([[34.]])\n",
            "Input:\n",
            " tensor([2., 3., 4.])\n",
            "Hessian:\n",
            " tensor([[22.,  0.,  0.],\n",
            "        [ 0., 34.,  0.],\n",
            "        [ 0.,  0., 46.]])\n",
            "Input:\n",
            " tensor([[2., 3.],\n",
            "        [4., 7.]])\n",
            "Hessian:\n",
            " tensor([[[[22.,  0.],\n",
            "          [ 0.,  0.]],\n",
            "\n",
            "         [[ 0., 34.],\n",
            "          [ 0.,  0.]]],\n",
            "\n",
            "\n",
            "        [[[ 0.,  0.],\n",
            "          [46.,  0.]],\n",
            "\n",
            "         [[ 0.,  0.],\n",
            "          [ 0., 82.]]]])\n"
          ]
        }
      ],
      "source": [
        "# Python program to compute Hessian in PyTorch\n",
        "# importing libraries\n",
        "import torch\n",
        "from torch.autograd.functional import hessian\n",
        "\n",
        "# defining a function\n",
        "def func(x):\n",
        "\treturn (2*x.pow(3) - x.pow(2)).sum()\n",
        "\n",
        "# defining the input tensor\n",
        "input = torch.tensor([3.])\n",
        "print(\"Input:\\n\", input)\n",
        "\n",
        "# computing the hessian\n",
        "output = hessian(func, input)\n",
        "\n",
        "# printing the above computed tensor\n",
        "print(\"Hessian:\\n\", output)\n",
        "\n",
        "# .....New input\n",
        "input = torch.tensor([2., 3., 4.])\n",
        "print(\"Input:\\n\", input)\n",
        "\n",
        "# computing the hessian\n",
        "output = hessian(func, input)\n",
        "\n",
        "# printing the above computed tensor\n",
        "print(\"Hessian:\\n\", output)\n",
        "\n",
        "# .....New input\n",
        "input = torch.tensor([[2., 3.], [4., 7]])\n",
        "print(\"Input:\\n\", input)\n",
        "\n",
        "# computing the hessian\n",
        "output = hessian(func, input)\n",
        "\n",
        "# printing the above computed tensor\n",
        "print(\"Hessian:\\n\", output)\n"
      ]
    },
    {
      "cell_type": "markdown",
      "source": [
        "Example 2:\n",
        "In the below example we define a scalar-valued function of two variables (bivariate function). We input a tuple of two tensors. The scalar-valued function is defined for two variables. The input is a tuple of two tensors and notices that the output (the hessian) is a tuple of tuples of tensors.  Each inner tuple has two elements (tensors). Here Hessian[i][j] contains the Hessian of the ith input and jth input."
      ],
      "metadata": {
        "id": "f-GHj0U7dp4x"
      }
    },
    {
      "cell_type": "code",
      "source": [
        "# Python program to compute Hessian in PyTorch\n",
        "# importing libraries\n",
        "import torch\n",
        "from torch.autograd.functional import hessian\n",
        "\n",
        "# defining a function\n",
        "def func(x, y):\n",
        "\treturn (2*x*y.pow(2) + x.pow(3) - 10).sum()\n",
        "\n",
        "# defining the inputs\n",
        "input_x = torch.tensor([2.])\n",
        "input_y = torch.tensor([-3.])\n",
        "inputs = (input_x, input_y)\n",
        "print(\"inputs:\\n\", inputs)\n",
        "\n",
        "# compute the hessian\n",
        "output = hessian(func, inputs)\n",
        "\n",
        "# printing the above computed hessian\n",
        "print(\"Hessian:\\n\", output)\n"
      ],
      "metadata": {
        "colab": {
          "base_uri": "https://localhost:8080/"
        },
        "id": "O3wy1GJ6dO1B",
        "outputId": "974dc7ef-0329-498e-d5c0-bb9aeb6fc8aa"
      },
      "execution_count": null,
      "outputs": [
        {
          "output_type": "stream",
          "name": "stdout",
          "text": [
            "inputs:\n",
            " (tensor([2.]), tensor([-3.]))\n",
            "Hessian:\n",
            " ((tensor([[12.]]), tensor([[-12.]])), (tensor([[-12.]]), tensor([[8.]])))\n"
          ]
        }
      ]
    },
    {
      "cell_type": "markdown",
      "source": [
        "Example 3:\n",
        "In the below example we define a scalar-valued function of three variables.  We input a tuple of three tensors. The scalar-valued function is defined for three variables. The input is a tuple of three tensors and notice that the output (the hessian) is a tuple of tuples of tensors.  Here Hessian[i][j] contains the Hessian of the ith input and jth input."
      ],
      "metadata": {
        "id": "WR87mPxtd1Ao"
      }
    },
    {
      "cell_type": "code",
      "source": [
        "# Python program to compute Hessian in PyTorch\n",
        "# importing libraries\n",
        "import torch\n",
        "from torch.autograd.functional import hessian\n",
        "\n",
        "# defining a function\n",
        "def func(x, y, z):\n",
        "\treturn (2*x.pow(2)*y + x*z.pow(3) - 10).sum()\n",
        "\n",
        "# defining the inputs\n",
        "input_x = torch.tensor([1.])\n",
        "input_y = torch.tensor([2.])\n",
        "input_z = torch.tensor([3.])\n",
        "\n",
        "#inputs = (input_x, input_y, input_z)\n",
        "\n",
        "# compute the hessian\n",
        "output = hessian(func, (input_x, input_y, input_z))\n",
        "\n",
        "# printing the above computed hessian\n",
        "print(\"Hessian Tensor:\\n\", output)\n"
      ],
      "metadata": {
        "colab": {
          "base_uri": "https://localhost:8080/"
        },
        "id": "uNnmkOBOdsfb",
        "outputId": "a3a10970-ea4f-4e68-eaeb-c87baeac7829"
      },
      "execution_count": null,
      "outputs": [
        {
          "output_type": "stream",
          "name": "stdout",
          "text": [
            "Hessian Tensor:\n",
            " ((tensor([[8.]]), tensor([[4.]]), tensor([[27.]])), (tensor([[4.]]), tensor([[0.]]), tensor([[0.]])), (tensor([[27.]]), tensor([[0.]]), tensor([[18.]])))\n"
          ]
        }
      ]
    },
    {
      "cell_type": "code",
      "source": [],
      "metadata": {
        "id": "pE4S_56od8gX"
      },
      "execution_count": null,
      "outputs": []
    }
  ]
}