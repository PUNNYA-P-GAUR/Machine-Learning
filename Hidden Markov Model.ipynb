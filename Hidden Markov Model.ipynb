{
  "nbformat": 4,
  "nbformat_minor": 0,
  "metadata": {
    "colab": {
      "provenance": [],
      "include_colab_link": true
    },
    "kernelspec": {
      "name": "python3",
      "display_name": "Python 3"
    },
    "language_info": {
      "name": "python"
    }
  },
  "cells": [
    {
      "cell_type": "markdown",
      "metadata": {
        "id": "view-in-github",
        "colab_type": "text"
      },
      "source": [
        "<a href=\"https://colab.research.google.com/github/PUNNYA-P-GAUR/Machine-Learning/blob/main/Hidden%20Markov%20Model.ipynb\" target=\"_parent\"><img src=\"https://colab.research.google.com/assets/colab-badge.svg\" alt=\"Open In Colab\"/></a>"
      ]
    },
    {
      "cell_type": "code",
      "source": [
        "!pip install hmmlearn"
      ],
      "metadata": {
        "colab": {
          "base_uri": "https://localhost:8080/"
        },
        "id": "wNDln2ElEL06",
        "outputId": "272db399-c4c4-4242-f17b-6f6ae5231ef7"
      },
      "execution_count": 1,
      "outputs": [
        {
          "output_type": "stream",
          "name": "stdout",
          "text": [
            "Collecting hmmlearn\n",
            "  Downloading hmmlearn-0.3.0-cp310-cp310-manylinux_2_17_x86_64.manylinux2014_x86_64.whl (160 kB)\n",
            "\u001b[2K     \u001b[90m━━━━━━━━━━━━━━━━━━━━━━━━━━━━━━━━━━━━━━━━\u001b[0m \u001b[32m160.4/160.4 kB\u001b[0m \u001b[31m1.9 MB/s\u001b[0m eta \u001b[36m0:00:00\u001b[0m\n",
            "\u001b[?25hRequirement already satisfied: numpy>=1.10 in /usr/local/lib/python3.10/dist-packages (from hmmlearn) (1.23.5)\n",
            "Requirement already satisfied: scikit-learn!=0.22.0,>=0.16 in /usr/local/lib/python3.10/dist-packages (from hmmlearn) (1.2.2)\n",
            "Requirement already satisfied: scipy>=0.19 in /usr/local/lib/python3.10/dist-packages (from hmmlearn) (1.11.4)\n",
            "Requirement already satisfied: joblib>=1.1.1 in /usr/local/lib/python3.10/dist-packages (from scikit-learn!=0.22.0,>=0.16->hmmlearn) (1.3.2)\n",
            "Requirement already satisfied: threadpoolctl>=2.0.0 in /usr/local/lib/python3.10/dist-packages (from scikit-learn!=0.22.0,>=0.16->hmmlearn) (3.2.0)\n",
            "Installing collected packages: hmmlearn\n",
            "Successfully installed hmmlearn-0.3.0\n"
          ]
        }
      ]
    },
    {
      "cell_type": "code",
      "execution_count": 2,
      "metadata": {
        "id": "h0pnQ9HUWfDB"
      },
      "outputs": [],
      "source": [
        "import numpy as np\n",
        "import matplotlib.pyplot as plt\n",
        "import seaborn as sns\n",
        "from hmmlearn import hmm"
      ]
    },
    {
      "cell_type": "code",
      "source": [
        "states = [\"Sunny\", \"Rainy\"]\n",
        "n_states = len(states)\n",
        "print('Number of hidden states :',n_states)\n",
        "observations = [\"Dry\", \"Wet\"]\n",
        "n_observations = len(observations)\n",
        "print('Number of observations  :',n_observations)"
      ],
      "metadata": {
        "colab": {
          "base_uri": "https://localhost:8080/"
        },
        "id": "4jL9Jco8Dj92",
        "outputId": "07f0938e-2a4f-40ee-8b17-752a821f1a75"
      },
      "execution_count": 3,
      "outputs": [
        {
          "output_type": "stream",
          "name": "stdout",
          "text": [
            "Number of hidden states : 2\n",
            "Number of observations  : 2\n"
          ]
        }
      ]
    },
    {
      "cell_type": "code",
      "source": [
        "state_probability = np.array([0.6, 0.4])\n",
        "print(\"State probability: \", state_probability)\n",
        "\n",
        "transition_probability = np.array([[0.7, 0.3],\n",
        "                                   [0.3, 0.7]])\n",
        "print(\"\\nTransition probability:\\n\", transition_probability)\n",
        "\n",
        "emission_probability= np.array([[0.9, 0.1],\n",
        "                                 [0.2, 0.8]])\n",
        "print(\"\\nEmission probability:\\n\", emission_probability)"
      ],
      "metadata": {
        "colab": {
          "base_uri": "https://localhost:8080/"
        },
        "id": "PP0fppRpEYcF",
        "outputId": "7ebc9674-fef4-4a1b-c4be-32f4925ec015"
      },
      "execution_count": 4,
      "outputs": [
        {
          "output_type": "stream",
          "name": "stdout",
          "text": [
            "State probability:  [0.6 0.4]\n",
            "\n",
            "Transition probability:\n",
            " [[0.7 0.3]\n",
            " [0.3 0.7]]\n",
            "\n",
            "Emission probability:\n",
            " [[0.9 0.1]\n",
            " [0.2 0.8]]\n"
          ]
        }
      ]
    },
    {
      "cell_type": "code",
      "source": [
        "model = hmm.CategoricalHMM(n_components=n_states)\n",
        "model.startprob_ = state_probability\n",
        "model.transmat_ = transition_probability\n",
        "model.emissionprob_ = emission_probability"
      ],
      "metadata": {
        "id": "jDwGau7WEklG"
      },
      "execution_count": 5,
      "outputs": []
    },
    {
      "cell_type": "code",
      "source": [
        "observations_sequence = np.array([0, 1, 0, 1, 0, 0]).reshape(-1, 1)\n",
        "observations_sequence"
      ],
      "metadata": {
        "colab": {
          "base_uri": "https://localhost:8080/"
        },
        "id": "nsEcIl6mEo0X",
        "outputId": "5f9b9144-45fb-43ba-cd16-f705c839946a"
      },
      "execution_count": 6,
      "outputs": [
        {
          "output_type": "execute_result",
          "data": {
            "text/plain": [
              "array([[0],\n",
              "       [1],\n",
              "       [0],\n",
              "       [1],\n",
              "       [0],\n",
              "       [0]])"
            ]
          },
          "metadata": {},
          "execution_count": 6
        }
      ]
    },
    {
      "cell_type": "code",
      "source": [
        "hidden_states = model.predict(observations_sequence)\n",
        "print(\"Most likely hidden states:\", hidden_states)"
      ],
      "metadata": {
        "colab": {
          "base_uri": "https://localhost:8080/"
        },
        "id": "TO2s1e3kEru7",
        "outputId": "87d032fd-8c66-4384-9c9b-1c7169298a66"
      },
      "execution_count": 7,
      "outputs": [
        {
          "output_type": "stream",
          "name": "stdout",
          "text": [
            "Most likely hidden states: [0 1 1 1 0 0]\n"
          ]
        }
      ]
    },
    {
      "cell_type": "code",
      "source": [
        "log_probability, hidden_states = model.decode(observations_sequence,\n",
        "                                              lengths = len(observations_sequence),\n",
        "                                              algorithm ='viterbi' )\n",
        "\n",
        "print('Log Probability :',log_probability)\n",
        "print(\"Most likely hidden states:\", hidden_states)"
      ],
      "metadata": {
        "colab": {
          "base_uri": "https://localhost:8080/"
        },
        "id": "drQqW6_mEwIU",
        "outputId": "9c47b7e1-1941-4900-a055-4b45841d9914"
      },
      "execution_count": 8,
      "outputs": [
        {
          "output_type": "stream",
          "name": "stdout",
          "text": [
            "Log Probability : -6.360602626270058\n",
            "Most likely hidden states: [0 1 1 1 0 0]\n"
          ]
        }
      ]
    },
    {
      "cell_type": "code",
      "source": [
        "sns.set_style(\"whitegrid\")\n",
        "plt.plot(hidden_states, '-o', label=\"Hidden State\")\n",
        "plt.xlabel('Time step')\n",
        "plt.ylabel('Most Likely Hidden State')\n",
        "plt.title(\"Sunny or Rainy\")\n",
        "plt.legend()\n",
        "plt.show()"
      ],
      "metadata": {
        "colab": {
          "base_uri": "https://localhost:8080/",
          "height": 472
        },
        "id": "kA30lwLKEzwW",
        "outputId": "a07788b4-c994-45ed-9e49-0359a8d5260f"
      },
      "execution_count": 9,
      "outputs": [
        {
          "output_type": "display_data",
          "data": {
            "text/plain": [
              "<Figure size 640x480 with 1 Axes>"
            ],
            "image/png": "[encoded data removed]"
          },
          "metadata": {}
        }
      ]
    },
    {
      "cell_type": "code",
      "source": [],
      "metadata": {
        "id": "3ZGkrzmSE3fc"
      },
      "execution_count": 9,
      "outputs": []
    }
  ]
}