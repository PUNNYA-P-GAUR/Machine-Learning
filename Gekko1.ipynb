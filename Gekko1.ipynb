{
  "nbformat": 4,
  "nbformat_minor": 0,
  "metadata": {
    "colab": {
      "name": "Gekko1.ipynb",
      "provenance": [],
      "toc_visible": true,
      "authorship_tag": "ABX9TyMjL6PTqYan9wmqdoi8gvLy",
      "include_colab_link": true
    },
    "kernelspec": {
      "name": "python3",
      "display_name": "Python 3"
    },
    "language_info": {
      "name": "python"
    }
  },
  "cells": [
    {
      "cell_type": "markdown",
      "metadata": {
        "id": "view-in-github",
        "colab_type": "text"
      },
      "source": [
        "<a href=\"https://colab.research.google.com/github/PUNNYA-P-GAUR/Machine-Learning/blob/main/Gekko1.ipynb\" target=\"_parent\"><img src=\"https://colab.research.google.com/assets/colab-badge.svg\" alt=\"Open In Colab\"/></a>"
      ]
    },
    {
      "cell_type": "code",
      "execution_count": 1,
      "metadata": {
        "colab": {
          "base_uri": "https://localhost:8080/",
          "height": 0
        },
        "id": "HV5VuvaGjIUx",
        "outputId": "b2a69988-38f1-4ca7-9d1b-8374ec1de29b"
      },
      "outputs": [
        {
          "output_type": "stream",
          "name": "stdout",
          "text": [
            "Collecting gekko\n",
            "  Downloading gekko-1.0.2-py3-none-any.whl (12.4 MB)\n",
            "\u001b[K     |████████████████████████████████| 12.4 MB 4.5 MB/s \n",
            "\u001b[?25hRequirement already satisfied: numpy>=1.8 in /usr/local/lib/python3.7/dist-packages (from gekko) (1.21.6)\n",
            "Installing collected packages: gekko\n",
            "Successfully installed gekko-1.0.2\n"
          ]
        }
      ],
      "source": [
        "pip install gekko\n"
      ]
    },
    {
      "cell_type": "markdown",
      "metadata": {
        "id": "ld-tcauzjnkU"
      },
      "source": [
        "# 2: Linear Equations\n",
        "2x+2y=1 and 3x+2y=0"
      ]
    },
    {
      "cell_type": "code",
      "source": [
        "from gekko import GEKKO\n",
        "m = GEKKO()            # create GEKKO model\n",
        "x = m.Var()            # define new variable, default=0\n",
        "y = m.Var()            # define new variable, default=0\n",
        "m.Equations([2*x+2*y==1,3* x+2*y==0])  # equations\n",
        "m.solve(disp=False)    # solve\n",
        "print(x.value,y.value) # print solution"
      ],
      "metadata": {
        "colab": {
          "base_uri": "https://localhost:8080/",
          "height": 0
        },
        "id": "QV1Irx9EjWQf",
        "outputId": "dfd09dc5-ae6f-4f0b-abd4-8cef1dedb525"
      },
      "execution_count": 3,
      "outputs": [
        {
          "output_type": "stream",
          "name": "stdout",
          "text": [
            "[-1.0] [1.5]\n"
          ]
        }
      ]
    },
    {
      "cell_type": "markdown",
      "metadata": {
        "id": "G2FOLxAliJn2"
      },
      "source": [
        "# 3: Solve Nonlinear Equations\n",
        "x+2y=0\n",
        "x2+y2=1"
      ]
    },
    {
      "cell_type": "code",
      "source": [
        "m = GEKKO()             # create GEKKO model\n",
        "x = m.Var(value=0)      # define new variable, initial value=0\n",
        "y = m.Var(value=1)      # define new variable, initial value=1\n",
        "m.Equations([x + 2*y==0, x**2+y**2==1]) # equations\n",
        "m.solve(disp=False)     # solve\n",
        "print([x.value[0],y.value[0]]) # print solution"
      ],
      "metadata": {
        "colab": {
          "base_uri": "https://localhost:8080/",
          "height": 0
        },
        "id": "ITeMiS-9kAXR",
        "outputId": "0c178cd6-2b51-4e82-b1aa-96a6bf02f78a"
      },
      "execution_count": 4,
      "outputs": [
        {
          "output_type": "stream",
          "name": "stdout",
          "text": [
            "[-0.89442724267, 0.44721362133]\n"
          ]
        }
      ]
    }
  ]
}