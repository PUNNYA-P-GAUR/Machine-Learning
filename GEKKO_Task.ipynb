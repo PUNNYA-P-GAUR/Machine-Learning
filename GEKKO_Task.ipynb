{
  "cells": [
    {
      "cell_type": "markdown",
      "metadata": {
        "id": "view-in-github",
        "colab_type": "text"
      },
      "source": [
        "<a href=\"https://colab.research.google.com/github/PUNNYA-P-GAUR/Machine-Learning/blob/main/GEKKO_Task.ipynb\" target=\"_parent\"><img src=\"https://colab.research.google.com/assets/colab-badge.svg\" alt=\"Open In Colab\"/></a>"
      ]
    },
    {
      "cell_type": "markdown",
      "metadata": {
        "id": "cx4ohTMuiJns"
      },
      "source": [
        "# PRACTICAL 2"
      ]
    },
    {
      "cell_type": "markdown",
      "metadata": {
        "id": "dmZPcyy1iJnz"
      },
      "source": [
        "# 1: Solver selection\n",
        "Solve y**2=1 with APOPT solver. See APMonitor documentation or GEKKO documentation for additional solver options."
      ]
    },
    {
      "cell_type": "code",
      "source": [
        "pip install gekko"
      ],
      "metadata": {
        "colab": {
          "base_uri": "https://localhost:8080/",
          "height": 0
        },
        "id": "gF4Rltm5kJ9V",
        "outputId": "15d999ae-ddda-4998-c317-d9c588a6b704"
      },
      "execution_count": 5,
      "outputs": [
        {
          "output_type": "stream",
          "name": "stdout",
          "text": [
            "Collecting gekko\n",
            "  Downloading gekko-1.0.2-py3-none-any.whl (12.4 MB)\n",
            "\u001b[K     |████████████████████████████████| 12.4 MB 8.9 MB/s \n",
            "\u001b[?25hRequirement already satisfied: numpy>=1.8 in /usr/local/lib/python3.7/dist-packages (from gekko) (1.21.6)\n",
            "Installing collected packages: gekko\n",
            "Successfully installed gekko-1.0.2\n"
          ]
        }
      ]
    },
    {
      "cell_type": "code",
      "execution_count": 11,
      "metadata": {
        "colab": {
          "base_uri": "https://localhost:8080/"
        },
        "id": "OPRzJiMdiJnz",
        "outputId": "c5294e51-240f-43d8-8542-f39f57e52beb"
      },
      "outputs": [
        {
          "output_type": "stream",
          "name": "stdout",
          "text": [
            "apm 34.86.45.48_gk_model6 <br><pre> ----------------------------------------------------------------\n",
            " APMonitor, Version 1.0.1\n",
            " APMonitor Optimization Suite\n",
            " ----------------------------------------------------------------\n",
            " \n",
            " \n",
            " --------- APM Model Size ------------\n",
            " Each time step contains\n",
            "   Objects      :            0\n",
            "   Constants    :            0\n",
            "   Variables    :            1\n",
            "   Intermediates:            0\n",
            "   Connections  :            0\n",
            "   Equations    :            1\n",
            "   Residuals    :            1\n",
            " \n",
            " Number of state variables:              1\n",
            " Number of total equations: -            1\n",
            " Number of slack variables: -            0\n",
            " ---------------------------------------\n",
            " Degrees of freedom       :              0\n",
            " \n",
            " ----------------------------------------------\n",
            " Steady State Optimization with APOPT Solver\n",
            " ----------------------------------------------\n",
            " \n",
            " Iter    Objective  Convergence\n",
            "    0  5.62500E-21  3.75000E-01\n",
            "    1  5.06250E-22  1.40625E-01\n",
            "    2  6.09849E-24  1.26562E-02\n",
            "    3  9.29223E-28  1.52462E-04\n",
            "    4  9.29223E-28  1.52462E-04\n",
            " Successful solution\n",
            " \n",
            " ---------------------------------------------------\n",
            " Solver         :  APOPT (v1.0)\n",
            " Solution time  :   8.109999998123385E-002 sec\n",
            " Objective      :   0.000000000000000E+000\n",
            " Successful solution\n",
            " ---------------------------------------------------\n",
            " \n",
            "y: [1.0000000465]\n"
          ]
        }
      ],
      "source": [
        "from gekko import GEKKO\n",
        "m = GEKKO()           # create GEKKO model\n",
        "y = m.Var(value=2)    # define new variable, initial value=2\n",
        "m.Equation(y**2==1)   # define new equation\n",
        "m.options.SOLVER=1    # change solver (1=APOPT,3=IPOPT)\n",
        "m.solve(disp=True)   # solve locally (remote=False)\n",
        "print('y: ' + str(y.value)) # print variable value"
      ]
    },
    {
      "cell_type": "markdown",
      "metadata": {
        "id": "3ldNFS4XiJn1"
      },
      "source": [
        "# 2: Linear Equations\n",
        "3x+2y=1 and x+2y=0"
      ]
    },
    {
      "cell_type": "code",
      "execution_count": 12,
      "metadata": {
        "colab": {
          "base_uri": "https://localhost:8080/"
        },
        "id": "uDMCRgTYiJn1",
        "outputId": "26fc7d9f-f6a0-4abf-ff08-b0addb227c46"
      },
      "outputs": [
        {
          "output_type": "stream",
          "name": "stdout",
          "text": [
            "[0.5] [-0.25]\n"
          ]
        }
      ],
      "source": [
        "from gekko import GEKKO\n",
        "m = GEKKO()            # create GEKKO model\n",
        "x = m.Var()            # define new variable, default=0\n",
        "y = m.Var()            # define new variable, default=0\n",
        "m.Equations([3*x+2*y==1, x+2*y==0])  # equations\n",
        "m.solve(disp=False)    # solve\n",
        "print(x.value,y.value) # print solution"
      ]
    },
    {
      "cell_type": "markdown",
      "metadata": {
        "id": "G2FOLxAliJn2"
      },
      "source": [
        "# 3: Solve Nonlinear Equations\n",
        "x+2y=0\n",
        "x2+y2=1"
      ]
    },
    {
      "cell_type": "code",
      "execution_count": 13,
      "metadata": {
        "colab": {
          "base_uri": "https://localhost:8080/"
        },
        "id": "ILWMuCQNiJn2",
        "outputId": "f014f1cf-69af-4643-b928-bdecd4d361d1"
      },
      "outputs": [
        {
          "output_type": "stream",
          "name": "stdout",
          "text": [
            "[-0.89442724267, 0.44721362133]\n"
          ]
        }
      ],
      "source": [
        "m = GEKKO()             # create GEKKO model\n",
        "x = m.Var(value=0)      # define new variable, initial value=0\n",
        "y = m.Var(value=1)      # define new variable, initial value=1\n",
        "m.Equations([x + 2*y==0, x**2+y**2==1]) # equations\n",
        "m.solve(disp=False)     # solve\n",
        "print([x.value[0],y.value[0]]) # print solution"
      ]
    },
    {
      "cell_type": "markdown",
      "metadata": {
        "id": "ZZNfFtoHiJn3"
      },
      "source": [
        "# 4: Linear and Polynomial Regression"
      ]
    },
    {
      "cell_type": "code",
      "execution_count": 14,
      "metadata": {
        "colab": {
          "base_uri": "https://localhost:8080/",
          "height": 296
        },
        "id": "zxfPU0oDiJn3",
        "outputId": "7fc822f8-e979-420b-d138-808b840154a7"
      },
      "outputs": [
        {
          "output_type": "execute_result",
          "data": {
            "text/plain": [
              "Text(0, 0.5, 'y')"
            ]
          },
          "metadata": {},
          "execution_count": 14
        },
        {
          "output_type": "display_data",
          "data": {
            "text/plain": [
              "<Figure size 432x288 with 1 Axes>"
            ],
            "image/png": "[encoded data removed]"
          },
          "metadata": {
            "needs_background": "light"
          }
        }
      ],
      "source": [
        "import numpy as np\n",
        "import matplotlib.pyplot as plt\n",
        "%matplotlib inline\n",
        "\n",
        "xm = np.array([0,1,2,3,4,5])\n",
        "ym = np.array([0.1,0.2,0.3,0.5,0.8,2.0])\n",
        "\n",
        "#### Solution\n",
        "from gekko import Gekko\n",
        "m = GEKKO()\n",
        "m.options.IMODE=2\n",
        "# coefficients\n",
        "c = [m.FV(value=0) for i in range(4)]\n",
        "x = m.Param(value=xm)\n",
        "y = m.CV(value=ym)\n",
        "y.FSTATUS = 1\n",
        "# polynomial model\n",
        "m.Equation(y==c[0]+c[1]*x+c[2]*x**2+c[3]*x**3)\n",
        "\n",
        "# linear regression\n",
        "c[0].STATUS=1\n",
        "c[1].STATUS=1\n",
        "m.solve(disp=False)\n",
        "p1 = [c[1].value[0],c[0].value[0]]\n",
        "\n",
        "# quadratic\n",
        "c[2].STATUS=1\n",
        "m.solve(disp=False)\n",
        "p2 = [c[2].value[0],c[1].value[0],c[0].value[0]]\n",
        "\n",
        "# cubic\n",
        "c[3].STATUS=1\n",
        "m.solve(disp=False)\n",
        "p3 = [c[3].value[0],c[2].value[0],c[1].value[0],c[0].value[0]]\n",
        "\n",
        "# plot fit\n",
        "plt.plot(xm,ym,'ko',markersize=10)\n",
        "xp = np.linspace(0,5,100)\n",
        "plt.plot(xp,np.polyval(p1,xp),'b--',linewidth=2)\n",
        "plt.plot(xp,np.polyval(p2,xp),'r--',linewidth=3)\n",
        "plt.plot(xp,np.polyval(p3,xp),'g:',linewidth=2)\n",
        "plt.legend(['Data','Linear','Quadratic','Cubic'],loc='best')\n",
        "plt.xlabel('x')\n",
        "plt.ylabel('y')"
      ]
    },
    {
      "cell_type": "code",
      "execution_count": null,
      "metadata": {
        "id": "d-xhTPDEiJn4"
      },
      "outputs": [],
      "source": [
        ""
      ]
    },
    {
      "cell_type": "code",
      "execution_count": 15,
      "metadata": {
        "colab": {
          "base_uri": "https://localhost:8080/",
          "height": 612
        },
        "id": "g9_ztmN4iJn4",
        "outputId": "45c7630e-5310-4f14-8b79-30a056984c64"
      },
      "outputs": [
        {
          "output_type": "stream",
          "name": "stdout",
          "text": [
            "w1[0]: 0.72039948257\n",
            "w1[1]: 0.97020409045\n",
            "w2a[0]: -2.9352864777\n",
            "w2b[0]: 0.75977201785\n",
            "w2a[1]: -0.50374820216\n",
            "w2b[1]: 0.759772019\n",
            "w2a[2]: -0.34909522023\n",
            "w2b[2]: 0.15424839056\n",
            "w2a[3]: -3.9587870618\n",
            "w2b[3]: 0.63464219684\n",
            "w2a[4]: 0.090025946126\n",
            "w2b[4]: 0.63464219772\n",
            "w2a[5]: -1.3759710865\n",
            "w2b[5]: 0.45143615048\n",
            "w3[0]: 0.75546187561\n",
            "w3[1]: 0.75546255577\n",
            "w3[2]: 0.75547569468\n",
            "w3[3]: 0.75544873479\n",
            "w3[4]: -1.4721970635\n",
            "w3[5]: -1.4721970366\n"
          ]
        },
        {
          "output_type": "display_data",
          "data": {
            "text/plain": [
              "<Figure size 432x288 with 1 Axes>"
            ],
            "image/png": "[encoded data removed]"
          },
          "metadata": {
            "needs_background": "light"
          }
        }
      ],
      "source": [
        "from gekko import GEKKO\n",
        "import numpy as np\n",
        "import matplotlib.pyplot as plt  \n",
        "%matplotlib inline\n",
        "\n",
        "# generate training data\n",
        "x = np.linspace(0.0,2*np.pi,20)\n",
        "y = np.sin(x)\n",
        "\n",
        "# option for fitting function\n",
        "select = False # True / False\n",
        "if select:\n",
        "    # Size with cosine function\n",
        "    nin = 1  # inputs\n",
        "    n1 = 1   # hidden layer 1 (linear)\n",
        "    n2 = 1   # hidden layer 2 (nonlinear)\n",
        "    n3 = 1  # hidden layer 3 (linear)\n",
        "    nout = 1 # outputs\n",
        "else:\n",
        "    # Size with hyperbolic tangent function\n",
        "    nin = 1  # inputs\n",
        "    n1 = 2   # hidden layer 1 (linear)\n",
        "    n2 = 3   # hidden layer 2 (nonlinear)\n",
        "    n3 = 2   # hidden layer 3 (linear)\n",
        "    nout = 1 # outputs\n",
        "\n",
        "# Initialize gekko\n",
        "train = GEKKO()\n",
        "test = GEKKO()\n",
        "\n",
        "model = [train,test]\n",
        "\n",
        "for m in model:\n",
        "    # input(s)\n",
        "    m.inpt = m.Param()\n",
        "\n",
        "    # layer 1\n",
        "    m.w1 = m.Array(m.FV, (nin,n1))\n",
        "    m.l1 = [m.Intermediate(m.w1[0,i]*m.inpt) for i in range(n1)]\n",
        "\n",
        "    # layer 2\n",
        "    m.w2a = m.Array(m.FV, (n1,n2))\n",
        "    m.w2b = m.Array(m.FV, (n1,n2))\n",
        "    if select:\n",
        "        m.l2 = [m.Intermediate(sum([m.cos(m.w2a[j,i]+m.w2b[j,i]*m.l1[j]) \\\n",
        "                                for j in range(n1)])) for i in range(n2)]\n",
        "    else:\n",
        "        m.l2 = [m.Intermediate(sum([m.tanh(m.w2a[j,i]+m.w2b[j,i]*m.l1[j]) \\\n",
        "                                for j in range(n1)])) for i in range(n2)]\n",
        "\n",
        "    # layer 3\n",
        "    m.w3 = m.Array(m.FV, (n2,n3))\n",
        "    m.l3 = [m.Intermediate(sum([m.w3[j,i]*m.l2[j] \\\n",
        "            for j in range(n2)])) for i in range(n3)]\n",
        "\n",
        "    # output(s)\n",
        "    m.outpt = m.CV()\n",
        "    m.Equation(m.outpt==sum([m.l3[i] for i in range(n3)]))\n",
        "\n",
        "    # flatten matrices\n",
        "    m.w1 = m.w1.flatten()\n",
        "    m.w2a = m.w2a.flatten()\n",
        "    m.w2b = m.w2b.flatten()\n",
        "    m.w3 = m.w3.flatten()\n",
        "\n",
        "# Fit parameter weights\n",
        "m = train\n",
        "m.inpt.value=x\n",
        "m.outpt.value=y\n",
        "m.outpt.FSTATUS = 1\n",
        "for i in range(len(m.w1)):\n",
        "    m.w1[i].FSTATUS=1\n",
        "    m.w1[i].STATUS=1\n",
        "    m.w1[i].MEAS=1.0\n",
        "for i in range(len(m.w2a)):\n",
        "    m.w2a[i].STATUS=1\n",
        "    m.w2b[i].STATUS=1\n",
        "    m.w2a[i].FSTATUS=1\n",
        "    m.w2b[i].FSTATUS=1\n",
        "    m.w2a[i].MEAS=1.0\n",
        "    m.w2b[i].MEAS=0.5\n",
        "for i in range(len(m.w3)):\n",
        "    m.w3[i].FSTATUS=1\n",
        "    m.w3[i].STATUS=1\n",
        "    m.w3[i].MEAS=1.0\n",
        "m.options.IMODE = 2\n",
        "m.options.SOLVER = 3\n",
        "m.options.EV_TYPE = 2\n",
        "m.solve(disp=False)\n",
        "\n",
        "# Test sample points\n",
        "m = test\n",
        "for i in range(len(m.w1)):\n",
        "    m.w1[i].MEAS=train.w1[i].NEWVAL\n",
        "    m.w1[i].FSTATUS = 1\n",
        "    print('w1['+str(i)+']: '+str(m.w1[i].MEAS))\n",
        "for i in range(len(m.w2a)):\n",
        "    m.w2a[i].MEAS=train.w2a[i].NEWVAL\n",
        "    m.w2b[i].MEAS=train.w2b[i].NEWVAL\n",
        "    m.w2a[i].FSTATUS = 1\n",
        "    m.w2b[i].FSTATUS = 1\n",
        "    print('w2a['+str(i)+']: '+str(m.w2a[i].MEAS))\n",
        "    print('w2b['+str(i)+']: '+str(m.w2b[i].MEAS))\n",
        "for i in range(len(m.w3)):\n",
        "    m.w3[i].MEAS=train.w3[i].NEWVAL\n",
        "    m.w3[i].FSTATUS = 1\n",
        "    print('w3['+str(i)+']: '+str(m.w3[i].MEAS))\n",
        "m.inpt.value=np.linspace(-2*np.pi,4*np.pi,100)\n",
        "m.options.IMODE = 2\n",
        "m.options.SOLVER = 3\n",
        "m.solve(disp=False)\n",
        "\n",
        "plt.figure()\n",
        "plt.plot(x,y,'bo')\n",
        "plt.plot(test.inpt.value,test.outpt.value,'r-')\n",
        "plt.show()"
      ]
    },
    {
      "cell_type": "markdown",
      "metadata": {
        "id": "ziLDdTUTiJn6"
      },
      "source": [
        "#  4 Solve differential equation\n",
        "K dy/dt =-t y initial value of y is y(0)=5\n",
        "where k=10. The solution of y(t) should be reported froma an initial time 0 to final time 20.\n",
        "create plot of result for y(t) versus t."
      ]
    },
    {
      "cell_type": "code",
      "execution_count": 16,
      "metadata": {
        "id": "jKdtl89IiJn6"
      },
      "outputs": [],
      "source": [
        "import numpy as np\n",
        "from gekko import GEKKO\n",
        "tm=np.linspace(0,20,100)\n",
        "m=GEKKO(remote=False)\n",
        "m.time=tm\n",
        "k=10\n",
        "y=m.Var(value=5.0)\n",
        "t=m.Param(value=tm)\n",
        "m.Equation(k*y.dt()==-t*y)\n",
        "m.options.IMODE=4\n",
        "m.solve(disp=False)\n"
      ]
    },
    {
      "cell_type": "code",
      "execution_count": 19,
      "metadata": {
        "id": "LoZFhuTjiJn6"
      },
      "outputs": [],
      "source": [
        "ya=5*np.exp(-tm**2/(2*k))"
      ]
    },
    {
      "cell_type": "code",
      "execution_count": 20,
      "metadata": {
        "colab": {
          "base_uri": "https://localhost:8080/",
          "height": 283
        },
        "id": "U0Vc-BSOiJn7",
        "outputId": "1de08c7c-fb7c-4f55-c1bc-c1e53b41c762"
      },
      "outputs": [
        {
          "output_type": "execute_result",
          "data": {
            "text/plain": [
              "[<matplotlib.lines.Line2D at 0x7f929557d890>]"
            ]
          },
          "metadata": {},
          "execution_count": 20
        },
        {
          "output_type": "display_data",
          "data": {
            "text/plain": [
              "<Figure size 432x288 with 1 Axes>"
            ],
            "image/png": "[encoded data removed]"
          },
          "metadata": {
            "needs_background": "light"
          }
        }
      ],
      "source": [
        "import matplotlib.pyplot as plt\n",
        "%matplotlib inline\n",
        "plt.plot(tm,ya,'r--', label='Analytical Solution')"
      ]
    },
    {
      "cell_type": "code",
      "execution_count": 21,
      "metadata": {
        "colab": {
          "base_uri": "https://localhost:8080/",
          "height": 283
        },
        "id": "9qGo7lH7iJn7",
        "outputId": "ce8e7a3b-53cd-4fe1-d2bc-9cfd7a8c72e2"
      },
      "outputs": [
        {
          "output_type": "execute_result",
          "data": {
            "text/plain": [
              "[<matplotlib.lines.Line2D at 0x7f92954fdb90>]"
            ]
          },
          "metadata": {},
          "execution_count": 21
        },
        {
          "output_type": "display_data",
          "data": {
            "text/plain": [
              "<Figure size 432x288 with 1 Axes>"
            ],
            "image/png": "[encoded data removed]"
          },
          "metadata": {
            "needs_background": "light"
          }
        }
      ],
      "source": [
        "plt.plot(tm,ya,'b--',label='Gekko Solution')"
      ]
    },
    {
      "cell_type": "code",
      "execution_count": null,
      "metadata": {
        "id": "GXECYtdWiJn7"
      },
      "outputs": [],
      "source": [
        ""
      ]
    }
  ],
  "metadata": {
    "kernelspec": {
      "display_name": "Python 3",
      "language": "python",
      "name": "python3"
    },
    "language_info": {
      "codemirror_mode": {
        "name": "ipython",
        "version": 3
      },
      "file_extension": ".py",
      "mimetype": "text/x-python",
      "name": "python",
      "nbconvert_exporter": "python",
      "pygments_lexer": "ipython3",
      "version": "3.7.4"
    },
    "colab": {
      "name": "GEKKO Task.ipynb",
      "provenance": [],
      "include_colab_link": true
    }
  },
  "nbformat": 4,
  "nbformat_minor": 0
}