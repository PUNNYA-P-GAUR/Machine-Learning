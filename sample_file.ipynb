{
  "nbformat": 4,
  "nbformat_minor": 0,
  "metadata": {
    "colab": {
      "provenance": [],
      "include_colab_link": true
    },
    "kernelspec": {
      "name": "python3",
      "display_name": "Python 3"
    },
    "language_info": {
      "name": "python"
    }
  },
  "cells": [
    {
      "cell_type": "markdown",
      "metadata": {
        "id": "view-in-github",
        "colab_type": "text"
      },
      "source": [
        "<a href=\"https://colab.research.google.com/github/PUNNYA-P-GAUR/Machine-Learning/blob/main/sample_file.ipynb\" target=\"_parent\"><img src=\"https://colab.research.google.com/assets/colab-badge.svg\" alt=\"Open In Colab\"/></a>"
      ]
    },
    {
      "cell_type": "code",
      "source": [
        "import seaborn as sns\n",
        "import pandas as pd\n",
        "from matplotlib import pyplot as plt"
      ],
      "metadata": {
        "id": "M0VOjNhkcxux"
      },
      "execution_count": null,
      "outputs": []
    },
    {
      "cell_type": "code",
      "execution_count": null,
      "metadata": {
        "id": "ZHm0LjKUbMf2"
      },
      "outputs": [],
      "source": [
        "from sklearn.datasets import load_iris\n",
        "\n",
        "iris=load_iris()\n",
        "print(iris.DESCR)"
      ]
    },
    {
      "cell_type": "code",
      "source": [
        "# petal length and petal width"
      ],
      "metadata": {
        "id": "mF82zddibej0"
      },
      "execution_count": null,
      "outputs": []
    },
    {
      "cell_type": "code",
      "source": [
        "iris_df=pd.DataFrame(data=iris.data,columns=iris.feature_names)\n",
        "iris_df['target']=iris.target\n",
        "iris_df.head()"
      ],
      "metadata": {
        "id": "FZ6u2RAhdf1n"
      },
      "execution_count": null,
      "outputs": []
    },
    {
      "cell_type": "code",
      "source": [
        "iris.target_names"
      ],
      "metadata": {
        "colab": {
          "base_uri": "https://localhost:8080/"
        },
        "id": "IuC3Zaf0gOxE",
        "outputId": "8eefa09c-d207-4cb2-9306-5eb82a5eb6c9"
      },
      "execution_count": null,
      "outputs": [
        {
          "output_type": "execute_result",
          "data": {
            "text/plain": [
              "array(['setosa', 'versicolor', 'virginica'], dtype='<U10')"
            ]
          },
          "metadata": {},
          "execution_count": 21
        }
      ]
    },
    {
      "cell_type": "code",
      "source": [
        "plt.scatter(iris_df[iris_df['target']==0]['petal length (cm)'],\n",
        "            iris_df[iris_df['target']==0]['petal width (cm)'],\n",
        "            marker='x',color='r')\n",
        "plt.scatter(iris_df[iris_df['target']==1]['petal length (cm)'],\n",
        "            iris_df[iris_df['target']==1]['petal width (cm)'],\n",
        "             marker='.',color='g')\n",
        "plt.scatter(iris_df[iris_df['target']==2]['petal length (cm)'],\n",
        "            iris_df[iris_df['target']==2]['petal width (cm)'],\n",
        "             marker='1',color='b')"
      ],
      "metadata": {
        "id": "moixsR1Hdpsv"
      },
      "execution_count": null,
      "outputs": []
    },
    {
      "cell_type": "code",
      "source": [
        "from sklearn.cluster import KMeans\n",
        "\n",
        "clusterer=KMeans(n_clusters=3,n_init='auto')\n",
        "clusterer.fit(iris.data)\n",
        "iris_df['predicted']=clusterer.labels_"
      ],
      "metadata": {
        "id": "GMTBLc-4f7VD"
      },
      "execution_count": null,
      "outputs": []
    },
    {
      "cell_type": "code",
      "source": [
        "plt.scatter(iris_df[iris_df['predicted']==0]['petal length (cm)'],\n",
        "            iris_df[iris_df['predicted']==0]['petal width (cm)'],\n",
        "            marker='x',color='r')\n",
        "plt.scatter(iris_df[iris_df['predicted']==1]['petal length (cm)'],\n",
        "            iris_df[iris_df['predicted']==1]['petal width (cm)'],\n",
        "             marker='.',color='g')\n",
        "plt.scatter(iris_df[iris_df['predicted']==2]['petal length (cm)'],\n",
        "            iris_df[iris_df['predicted']==2]['petal width (cm)'],\n",
        "             marker='1',color='b')"
      ],
      "metadata": {
        "colab": {
          "base_uri": "https://localhost:8080/",
          "height": 447
        },
        "id": "OwtHmCI0hbtX",
        "outputId": "a9ad593b-a2ee-4ed4-8d46-102175762178"
      },
      "execution_count": null,
      "outputs": [
        {
          "output_type": "execute_result",
          "data": {
            "text/plain": [
              "<matplotlib.collections.PathCollection at 0x79da541deaa0>"
            ]
          },
          "metadata": {},
          "execution_count": 36
        },
        {
          "output_type": "display_data",
          "data": {
            "text/plain": [
              "<Figure size 640x480 with 1 Axes>"
            ],
            "image/png": "[encoded data removed]"
          },
          "metadata": {}
        }
      ]
    },
    {
      "cell_type": "code",
      "source": [],
      "metadata": {
        "id": "0zHBhK7SESlX"
      },
      "execution_count": null,
      "outputs": []
    },
    {
      "cell_type": "code",
      "source": [
        "import string"
      ],
      "metadata": {
        "id": "yL8X-Oa-ESfw"
      },
      "execution_count": null,
      "outputs": []
    },
    {
      "cell_type": "code",
      "source": [
        "s = 'Thi$ is s!mpl3 pyth0n $tr!ng'\n",
        "s"
      ],
      "metadata": {
        "id": "EVxhWDJdESXV",
        "colab": {
          "base_uri": "https://localhost:8080/",
          "height": 35
        },
        "outputId": "d0b7d476-f442-4529-cd74-24c43e3a3164"
      },
      "execution_count": null,
      "outputs": [
        {
          "output_type": "execute_result",
          "data": {
            "text/plain": [
              "'Thi$ is s!mpl3 pyth0n $tr!ng'"
            ],
            "application/vnd.google.colaboratory.intrinsic+json": {
              "type": "string"
            }
          },
          "metadata": {},
          "execution_count": 113
        }
      ]
    },
    {
      "cell_type": "code",
      "source": [
        "traslations={'s': '$', 'e': '3'}\n",
        "traslations=str.maketrans(traslations)\n",
        "traslations"
      ],
      "metadata": {
        "id": "wQxg8zUZESNh",
        "colab": {
          "base_uri": "https://localhost:8080/"
        },
        "outputId": "cb15494f-ee11-418b-c10c-ac5f8b91c725"
      },
      "execution_count": null,
      "outputs": [
        {
          "output_type": "execute_result",
          "data": {
            "text/plain": [
              "{115: '$', 101: '3'}"
            ]
          },
          "metadata": {},
          "execution_count": 105
        }
      ]
    },
    {
      "cell_type": "code",
      "source": [
        "ord('s')"
      ],
      "metadata": {
        "colab": {
          "base_uri": "https://localhost:8080/"
        },
        "id": "lCIaag4yIu9I",
        "outputId": "e108a524-38be-4c35-d8fe-d5295083f6fa"
      },
      "execution_count": null,
      "outputs": [
        {
          "output_type": "execute_result",
          "data": {
            "text/plain": [
              "115"
            ]
          },
          "metadata": {},
          "execution_count": 110
        }
      ]
    },
    {
      "cell_type": "code",
      "source": [
        "chr(115)"
      ],
      "metadata": {
        "colab": {
          "base_uri": "https://localhost:8080/",
          "height": 35
        },
        "id": "XPbRx_j_Iz82",
        "outputId": "a46c2355-5da0-4867-f1f5-83074cb7f3b8"
      },
      "execution_count": null,
      "outputs": [
        {
          "output_type": "execute_result",
          "data": {
            "text/plain": [
              "'s'"
            ],
            "application/vnd.google.colaboratory.intrinsic+json": {
              "type": "string"
            }
          },
          "metadata": {},
          "execution_count": 109
        }
      ]
    },
    {
      "cell_type": "code",
      "source": [
        "s.translate(traslations)"
      ],
      "metadata": {
        "colab": {
          "base_uri": "https://localhost:8080/",
          "height": 35
        },
        "id": "q5DUn7WqW7on",
        "outputId": "b408a9c2-7e05-4131-bc23-6a8ab226a07e"
      },
      "execution_count": null,
      "outputs": [
        {
          "output_type": "execute_result",
          "data": {
            "text/plain": [
              "'Thi$ i$ $!mpl3 pyth0n $tr!ng'"
            ],
            "application/vnd.google.colaboratory.intrinsic+json": {
              "type": "string"
            }
          },
          "metadata": {},
          "execution_count": 114
        }
      ]
    },
    {
      "cell_type": "code",
      "source": [
        "# d = {'$':'s','!':'i','3':'e','0':'o'}\n",
        "d2 = str.maketrans(dict(zip(string.punctuation,\n",
        " ['']*len(string.punctuation))))"
      ],
      "metadata": {
        "id": "93I-6aPrHmRI"
      },
      "execution_count": null,
      "outputs": []
    },
    {
      "cell_type": "code",
      "source": [
        "s.translate(d2)"
      ],
      "metadata": {
        "colab": {
          "base_uri": "https://localhost:8080/",
          "height": 35
        },
        "id": "Tj8T-9ReKYdO",
        "outputId": "152b41f7-3aca-4d6c-989e-31c8a0beff64"
      },
      "execution_count": null,
      "outputs": [
        {
          "output_type": "execute_result",
          "data": {
            "text/plain": [
              "'Thi is smpl3 pyth0n trng'"
            ],
            "application/vnd.google.colaboratory.intrinsic+json": {
              "type": "string"
            }
          },
          "metadata": {},
          "execution_count": 116
        }
      ]
    },
    {
      "cell_type": "code",
      "source": [
        "s.translate(str.maketrans(traslations))"
      ],
      "metadata": {
        "colab": {
          "base_uri": "https://localhost:8080/",
          "height": 35
        },
        "id": "YTlIJhziH6uX",
        "outputId": "5e90308d-a15b-42bb-a95b-d2035ff453d2"
      },
      "execution_count": null,
      "outputs": [
        {
          "output_type": "execute_result",
          "data": {
            "text/plain": [
              "'Thi$ i$ $!mpl3 pyth0n $tr!ng'"
            ],
            "application/vnd.google.colaboratory.intrinsic+json": {
              "type": "string"
            }
          },
          "metadata": {},
          "execution_count": 117
        }
      ]
    },
    {
      "cell_type": "code",
      "source": [
        "'play'=='playing'"
      ],
      "metadata": {
        "colab": {
          "base_uri": "https://localhost:8080/"
        },
        "id": "7qqFLza4KqEt",
        "outputId": "98f6765d-2db8-4f5b-df07-c5ad219661d2"
      },
      "execution_count": null,
      "outputs": [
        {
          "output_type": "execute_result",
          "data": {
            "text/plain": [
              "False"
            ]
          },
          "metadata": {},
          "execution_count": 34
        }
      ]
    },
    {
      "cell_type": "code",
      "source": [
        "'python'=='Python'"
      ],
      "metadata": {
        "colab": {
          "base_uri": "https://localhost:8080/"
        },
        "id": "qeH443jaHgPF",
        "outputId": "1e38a554-52c6-4628-cdd9-5050f6e5dcc6"
      },
      "execution_count": null,
      "outputs": [
        {
          "output_type": "execute_result",
          "data": {
            "text/plain": [
              "False"
            ]
          },
          "metadata": {},
          "execution_count": 35
        }
      ]
    },
    {
      "cell_type": "code",
      "source": [
        "# download nltk data\n",
        "nltk_root=__import__('nltk')                                                    # load nltk\n",
        "nltk_root.download('twitter_samples')                                           # download twitter samples\n",
        "nltk_root.download('punkt')                                                     # download punctuations for tokenization\n",
        "nltk_root.download('stopwords')                                                 # download all stopwords\n",
        "nltk_root.download('wordnet')                                                   # download wordnet data for wordnet WordNetLemmatizer\n",
        "nltk_root.download('averaged_perceptron_tagger')                                # download data for nltk POS tagger\n",
        "nltk_root.download('tagsets')                                                   # download tagset info (nltk.help.upenn_tagset)\n",
        "del nltk_root"
      ],
      "metadata": {
        "id": "COvF20BmICsh"
      },
      "execution_count": null,
      "outputs": []
    },
    {
      "cell_type": "code",
      "source": [
        "import numpy as np"
      ],
      "metadata": {
        "id": "QEt6tV3lNB12"
      },
      "execution_count": null,
      "outputs": []
    },
    {
      "cell_type": "code",
      "source": [
        "# load data - twitter samples\n",
        "from nltk.corpus import twitter_samples"
      ],
      "metadata": {
        "id": "Ua6MKHNhIUPv"
      },
      "execution_count": null,
      "outputs": []
    },
    {
      "cell_type": "code",
      "source": [
        "# load positive twitter samples\n",
        "positive=twitter_samples.strings(fileids='positive_tweets.json')\n",
        "# see total samples\n",
        "print('Total samples:',len(positive))\n",
        "# get random 5 samples index\n",
        "positive_indexs=np.random.randint(low=0,high=len(positive),size=5)\n",
        "# see some (file) random samples\n",
        "for index in positive_indexs:\n",
        "  print(f'Sample {index}: {positive[index]}')                                   # make print sample"
      ],
      "metadata": {
        "colab": {
          "base_uri": "https://localhost:8080/"
        },
        "id": "jhxyUml2M2l5",
        "outputId": "98bedce8-c706-4954-a424-8745abeea4bc"
      },
      "execution_count": null,
      "outputs": [
        {
          "output_type": "stream",
          "name": "stdout",
          "text": [
            "Total samples: 5000\n",
            "Sample 2713: watched shes dating the gangster for the 2nd time and i realized something\n",
            "\n",
            "i love athena's style :-)\n",
            "Sample 4202: @Itsjustizue see you tomorrow then :))))\n",
            "Sample 2208: Delicious moviee :D ★ Chef (at Grogol) — https://t.co/LjtolXzqe3\n",
            "Sample 2136: Yes, He does :) [pic] — https://t.co/WDgaxar1T7\n",
            "Sample 1334: @xopriyaox oops! Well at least they'll realise it doesnt work anymore :)\n"
          ]
        }
      ]
    },
    {
      "cell_type": "code",
      "source": [
        "negative=twitter_samples.strings(fileids='negative_tweets.json')\n",
        "print('Total samples:',len(negative))\n",
        "negative_indexs=np.random.randint(low=0,high=len(negative),size=5)\n",
        "for index in negative_indexs:\n",
        "  print(f'Sample {index}: {negative[index]}')                                   # make print sample"
      ],
      "metadata": {
        "colab": {
          "base_uri": "https://localhost:8080/"
        },
        "id": "83IaUqJINDtS",
        "outputId": "2e231c02-5565-4a69-fe6d-7f27a6e8880b"
      },
      "execution_count": null,
      "outputs": [
        {
          "output_type": "stream",
          "name": "stdout",
          "text": [
            "Total samples: 5000\n",
            "Sample 3211: @Skulker_PoA @ASUS_ROG Hi Skulker, check this thread: https://t.co/vMlI793G25 PG279Q isn’t coming anything soon sadly :(\n",
            "Sample 2773: @muscularpayne GOOOD but its so hot here my tan line are ugly but im going home tonight!:(\n",
            "Sample 199: @sarahhardman8 I hope so :(\n",
            "Sample 1458: A shame that Rock City worked on that. :-(\n",
            "Sample 688: @KumonePina_bot Just for that, you won't get a cupcake!! &gt;:(\n"
          ]
        }
      ]
    },
    {
      "cell_type": "code",
      "source": [
        "import re"
      ],
      "metadata": {
        "id": "3VV_3DjxN1nB"
      },
      "execution_count": null,
      "outputs": []
    },
    {
      "cell_type": "code",
      "source": [
        "positive_special_characters=''\n",
        "for sample in positive:\n",
        "  positive_special_characters+=re.sub('[\\w \\t\\n]','',sample)\n",
        "positive_special_characters"
      ],
      "metadata": {
        "id": "RV6YefhINQ8E"
      },
      "execution_count": null,
      "outputs": []
    },
    {
      "cell_type": "code",
      "source": [
        "negative_special_characters=''\n",
        "for sample in negative:\n",
        "  negative_special_characters+=re.sub('[\\w \\t\\n]','',sample)\n",
        "negative_special_characters"
      ],
      "metadata": {
        "id": "nkfeyMkqOtRa"
      },
      "execution_count": null,
      "outputs": []
    },
    {
      "cell_type": "code",
      "source": [
        "# ':)',':-)' -> 'positive'\n",
        "# ':(',':-(' -> 'negative'"
      ],
      "metadata": {
        "colab": {
          "base_uri": "https://localhost:8080/"
        },
        "id": "11UYSq5EOCyv",
        "outputId": "a259d5fb-132c-4d42-dd9c-8ed07e0dfb5c"
      },
      "execution_count": null,
      "outputs": [
        {
          "output_type": "execute_result",
          "data": {
            "text/plain": [
              "(':(', ':-(')"
            ]
          },
          "metadata": {},
          "execution_count": 64
        }
      ]
    },
    {
      "cell_type": "code",
      "source": [
        "# load word tokenizer\n",
        "from nltk.tokenize import word_tokenize\n",
        "# load stopwords module\n",
        "from nltk.corpus import stopwords\n",
        "# load porter stemmer class\n",
        "from nltk.stem import PorterStemmer\n",
        "# load wordnet lemmatizer\n",
        "from nltk.stem import WordNetLemmatizer\n",
        "# load POS (Part of Speach) tagger\n",
        "from nltk import pos_tag"
      ],
      "metadata": {
        "id": "jEP8BG6RN_qf"
      },
      "execution_count": null,
      "outputs": []
    },
    {
      "cell_type": "code",
      "source": [
        "s=stopwords.words()"
      ],
      "metadata": {
        "id": "2syHHmKGTXTU"
      },
      "execution_count": null,
      "outputs": []
    },
    {
      "cell_type": "code",
      "source": [
        "p=positive[0]\n",
        "p"
      ],
      "metadata": {
        "id": "9Xi7nBK7PUwD"
      },
      "execution_count": null,
      "outputs": []
    },
    {
      "cell_type": "code",
      "source": [
        "p_clean=p.translate(p.maketrans('','',string.punctuation))\n",
        "p_clean=p_clean.casefold()\n",
        "p_clean"
      ],
      "metadata": {
        "id": "8NOtEvcpUFb_"
      },
      "execution_count": null,
      "outputs": []
    },
    {
      "cell_type": "code",
      "source": [
        "w = word_tokenize(p_clean)\n",
        "w"
      ],
      "metadata": {
        "id": "rGX1yf5SRsRY"
      },
      "execution_count": null,
      "outputs": []
    },
    {
      "cell_type": "code",
      "source": [
        "w_clean=[word for word in w if word not in s]\n",
        "w_clean"
      ],
      "metadata": {
        "colab": {
          "base_uri": "https://localhost:8080/"
        },
        "id": "WxWXJD1iSjVx",
        "outputId": "527f095a-e579-4a84-e8a9-7b84c2b1d265"
      },
      "execution_count": null,
      "outputs": [
        {
          "output_type": "execute_result",
          "data": {
            "text/plain": [
              "['followfriday',\n",
              " 'franceinte',\n",
              " 'pkuchly57',\n",
              " 'milipolparis',\n",
              " 'top',\n",
              " 'engaged',\n",
              " 'members',\n",
              " 'community',\n",
              " 'week']"
            ]
          },
          "metadata": {},
          "execution_count": 100
        }
      ]
    },
    {
      "cell_type": "code",
      "source": [
        "stemmer=PorterStemmer()"
      ],
      "metadata": {
        "id": "fb0dcDx8T4Ga"
      },
      "execution_count": null,
      "outputs": []
    },
    {
      "cell_type": "code",
      "source": [],
      "metadata": {
        "id": "WxG7lxlrVmxN"
      },
      "execution_count": null,
      "outputs": []
    }
  ]
}