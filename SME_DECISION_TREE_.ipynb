{
  "cells": [
    {
      "cell_type": "markdown",
      "metadata": {
        "id": "view-in-github",
        "colab_type": "text"
      },
      "source": [
        "<a href=\"https://colab.research.google.com/github/PUNNYA-P-GAUR/Machine-Learning/blob/main/SME_DECISION_TREE_.ipynb\" target=\"_parent\"><img src=\"https://colab.research.google.com/assets/colab-badge.svg\" alt=\"Open In Colab\"/></a>"
      ]
    },
    {
      "cell_type": "code",
      "execution_count": 1,
      "id": "c69c5e1f",
      "metadata": {
        "id": "c69c5e1f",
        "outputId": "db3de99b-fcd5-4e75-91d5-50a0cf61c4d9",
        "colab": {
          "base_uri": "https://localhost:8080/"
        }
      },
      "outputs": [
        {
          "output_type": "stream",
          "name": "stdout",
          "text": [
            "Looking in indexes: https://pypi.org/simple, https://us-python.pkg.dev/colab-wheels/public/simple/\n",
            "Requirement already satisfied: seaborn in /usr/local/lib/python3.7/dist-packages (0.11.2)\n",
            "Requirement already satisfied: scipy>=1.0 in /usr/local/lib/python3.7/dist-packages (from seaborn) (1.7.3)\n",
            "Requirement already satisfied: matplotlib>=2.2 in /usr/local/lib/python3.7/dist-packages (from seaborn) (3.2.2)\n",
            "Requirement already satisfied: pandas>=0.23 in /usr/local/lib/python3.7/dist-packages (from seaborn) (1.3.5)\n",
            "Requirement already satisfied: numpy>=1.15 in /usr/local/lib/python3.7/dist-packages (from seaborn) (1.21.6)\n",
            "Requirement already satisfied: pyparsing!=2.0.4,!=2.1.2,!=2.1.6,>=2.0.1 in /usr/local/lib/python3.7/dist-packages (from matplotlib>=2.2->seaborn) (3.0.9)\n",
            "Requirement already satisfied: cycler>=0.10 in /usr/local/lib/python3.7/dist-packages (from matplotlib>=2.2->seaborn) (0.11.0)\n",
            "Requirement already satisfied: python-dateutil>=2.1 in /usr/local/lib/python3.7/dist-packages (from matplotlib>=2.2->seaborn) (2.8.2)\n",
            "Requirement already satisfied: kiwisolver>=1.0.1 in /usr/local/lib/python3.7/dist-packages (from matplotlib>=2.2->seaborn) (1.4.4)\n",
            "Requirement already satisfied: typing-extensions in /usr/local/lib/python3.7/dist-packages (from kiwisolver>=1.0.1->matplotlib>=2.2->seaborn) (4.1.1)\n",
            "Requirement already satisfied: pytz>=2017.3 in /usr/local/lib/python3.7/dist-packages (from pandas>=0.23->seaborn) (2022.6)\n",
            "Requirement already satisfied: six>=1.5 in /usr/local/lib/python3.7/dist-packages (from python-dateutil>=2.1->matplotlib>=2.2->seaborn) (1.15.0)\n"
          ]
        }
      ],
      "source": [
        "!pip install seaborn"
      ]
    },
    {
      "cell_type": "code",
      "execution_count": 2,
      "id": "175c0c2e",
      "metadata": {
        "id": "175c0c2e"
      },
      "outputs": [],
      "source": [
        "import numpy as np\n",
        "import pandas as pd\n",
        "import seaborn as sns\n",
        "import matplotlib.pyplot as plt\n",
        "%matplotlib inline"
      ]
    },
    {
      "cell_type": "code",
      "execution_count": 3,
      "id": "9fc9696f",
      "metadata": {
        "id": "9fc9696f",
        "outputId": "b9f7bb07-d442-4390-d218-589ab2e74242",
        "colab": {
          "base_uri": "https://localhost:8080/",
          "height": 206
        }
      },
      "outputs": [
        {
          "output_type": "execute_result",
          "data": {
            "text/plain": [
              "  Class Name  Left weight  Left distance  Right weight  Right distance\n",
              "0          B            1              1             1               1\n",
              "1          R            1              1             1               2\n",
              "2          R            1              1             1               3\n",
              "3          R            1              1             1               4\n",
              "4          R            1              1             1               5"
            ],
            "text/html": [
              "\n",
              "  <div id=\"df-8d9987fc-6b07-4bd7-8838-3cb192d1cc9e\">\n",
              "    <div class=\"colab-df-container\">\n",
              "      <div>\n",
              "<style scoped>\n",
              "    .dataframe tbody tr th:only-of-type {\n",
              "        vertical-align: middle;\n",
              "    }\n",
              "\n",
              "    .dataframe tbody tr th {\n",
              "        vertical-align: top;\n",
              "    }\n",
              "\n",
              "    .dataframe thead th {\n",
              "        text-align: right;\n",
              "    }\n",
              "</style>\n",
              "<table border=\"1\" class=\"dataframe\">\n",
              "  <thead>\n",
              "    <tr style=\"text-align: right;\">\n",
              "      <th></th>\n",
              "      <th>Class Name</th>\n",
              "      <th>Left weight</th>\n",
              "      <th>Left distance</th>\n",
              "      <th>Right weight</th>\n",
              "      <th>Right distance</th>\n",
              "    </tr>\n",
              "  </thead>\n",
              "  <tbody>\n",
              "    <tr>\n",
              "      <th>0</th>\n",
              "      <td>B</td>\n",
              "      <td>1</td>\n",
              "      <td>1</td>\n",
              "      <td>1</td>\n",
              "      <td>1</td>\n",
              "    </tr>\n",
              "    <tr>\n",
              "      <th>1</th>\n",
              "      <td>R</td>\n",
              "      <td>1</td>\n",
              "      <td>1</td>\n",
              "      <td>1</td>\n",
              "      <td>2</td>\n",
              "    </tr>\n",
              "    <tr>\n",
              "      <th>2</th>\n",
              "      <td>R</td>\n",
              "      <td>1</td>\n",
              "      <td>1</td>\n",
              "      <td>1</td>\n",
              "      <td>3</td>\n",
              "    </tr>\n",
              "    <tr>\n",
              "      <th>3</th>\n",
              "      <td>R</td>\n",
              "      <td>1</td>\n",
              "      <td>1</td>\n",
              "      <td>1</td>\n",
              "      <td>4</td>\n",
              "    </tr>\n",
              "    <tr>\n",
              "      <th>4</th>\n",
              "      <td>R</td>\n",
              "      <td>1</td>\n",
              "      <td>1</td>\n",
              "      <td>1</td>\n",
              "      <td>5</td>\n",
              "    </tr>\n",
              "  </tbody>\n",
              "</table>\n",
              "</div>\n",
              "      <button class=\"colab-df-convert\" onclick=\"convertToInteractive('df-8d9987fc-6b07-4bd7-8838-3cb192d1cc9e')\"\n",
              "              title=\"Convert this dataframe to an interactive table.\"\n",
              "              style=\"display:none;\">\n",
              "        \n",
              "  <svg xmlns=\"http://www.w3.org/2000/svg\" height=\"24px\"viewBox=\"0 0 24 24\"\n",
              "       width=\"24px\">\n",
              "    <path d=\"M0 0h24v24H0V0z\" fill=\"none\"/>\n",
              "    <path d=\"M18.56 5.44l.94 2.06.94-2.06 2.06-.94-2.06-.94-.94-2.06-.94 2.06-2.06.94zm-11 1L8.5 8.5l.94-2.06 2.06-.94-2.06-.94L8.5 2.5l-.94 2.06-2.06.94zm10 10l.94 2.06.94-2.06 2.06-.94-2.06-.94-.94-2.06-.94 2.06-2.06.94z\"/><path d=\"M17.41 7.96l-1.37-1.37c-.4-.4-.92-.59-1.43-.59-.52 0-1.04.2-1.43.59L10.3 9.45l-7.72 7.72c-.78.78-.78 2.05 0 2.83L4 21.41c.39.39.9.59 1.41.59.51 0 1.02-.2 1.41-.59l7.78-7.78 2.81-2.81c.8-.78.8-2.07 0-2.86zM5.41 20L4 18.59l7.72-7.72 1.47 1.35L5.41 20z\"/>\n",
              "  </svg>\n",
              "      </button>\n",
              "      \n",
              "  <style>\n",
              "    .colab-df-container {\n",
              "      display:flex;\n",
              "      flex-wrap:wrap;\n",
              "      gap: 12px;\n",
              "    }\n",
              "\n",
              "    .colab-df-convert {\n",
              "      background-color: #E8F0FE;\n",
              "      border: none;\n",
              "      border-radius: 50%;\n",
              "      cursor: pointer;\n",
              "      display: none;\n",
              "      fill: #1967D2;\n",
              "      height: 32px;\n",
              "      padding: 0 0 0 0;\n",
              "      width: 32px;\n",
              "    }\n",
              "\n",
              "    .colab-df-convert:hover {\n",
              "      background-color: #E2EBFA;\n",
              "      box-shadow: 0px 1px 2px rgba(60, 64, 67, 0.3), 0px 1px 3px 1px rgba(60, 64, 67, 0.15);\n",
              "      fill: #174EA6;\n",
              "    }\n",
              "\n",
              "    [theme=dark] .colab-df-convert {\n",
              "      background-color: #3B4455;\n",
              "      fill: #D2E3FC;\n",
              "    }\n",
              "\n",
              "    [theme=dark] .colab-df-convert:hover {\n",
              "      background-color: #434B5C;\n",
              "      box-shadow: 0px 1px 3px 1px rgba(0, 0, 0, 0.15);\n",
              "      filter: drop-shadow(0px 1px 2px rgba(0, 0, 0, 0.3));\n",
              "      fill: #FFFFFF;\n",
              "    }\n",
              "  </style>\n",
              "\n",
              "      <script>\n",
              "        const buttonEl =\n",
              "          document.querySelector('#df-8d9987fc-6b07-4bd7-8838-3cb192d1cc9e button.colab-df-convert');\n",
              "        buttonEl.style.display =\n",
              "          google.colab.kernel.accessAllowed ? 'block' : 'none';\n",
              "\n",
              "        async function convertToInteractive(key) {\n",
              "          const element = document.querySelector('#df-8d9987fc-6b07-4bd7-8838-3cb192d1cc9e');\n",
              "          const dataTable =\n",
              "            await google.colab.kernel.invokeFunction('convertToInteractive',\n",
              "                                                     [key], {});\n",
              "          if (!dataTable) return;\n",
              "\n",
              "          const docLinkHtml = 'Like what you see? Visit the ' +\n",
              "            '<a target=\"_blank\" href=https://colab.research.google.com/notebooks/data_table.ipynb>data table notebook</a>'\n",
              "            + ' to learn more about interactive tables.';\n",
              "          element.innerHTML = '';\n",
              "          dataTable['output_type'] = 'display_data';\n",
              "          await google.colab.output.renderOutput(dataTable, element);\n",
              "          const docLink = document.createElement('div');\n",
              "          docLink.innerHTML = docLinkHtml;\n",
              "          element.appendChild(docLink);\n",
              "        }\n",
              "      </script>\n",
              "    </div>\n",
              "  </div>\n",
              "  "
            ]
          },
          "metadata": {},
          "execution_count": 3
        }
      ],
      "source": [
        "col = [ 'Class Name','Left weight','Left distance','Right weight','Right distance']\n",
        "df = pd.read_csv('balance-scale.data',names=col,sep=',')\n",
        "df.head()"
      ]
    },
    {
      "cell_type": "code",
      "execution_count": 4,
      "id": "63a69b3c",
      "metadata": {
        "id": "63a69b3c",
        "outputId": "e5fa48fe-dc75-47c6-f061-c9384ae2b15d",
        "colab": {
          "base_uri": "https://localhost:8080/"
        }
      },
      "outputs": [
        {
          "output_type": "stream",
          "name": "stdout",
          "text": [
            "<class 'pandas.core.frame.DataFrame'>\n",
            "RangeIndex: 625 entries, 0 to 624\n",
            "Data columns (total 5 columns):\n",
            " #   Column          Non-Null Count  Dtype \n",
            "---  ------          --------------  ----- \n",
            " 0   Class Name      625 non-null    object\n",
            " 1   Left weight     625 non-null    int64 \n",
            " 2   Left distance   625 non-null    int64 \n",
            " 3   Right weight    625 non-null    int64 \n",
            " 4   Right distance  625 non-null    int64 \n",
            "dtypes: int64(4), object(1)\n",
            "memory usage: 24.5+ KB\n"
          ]
        }
      ],
      "source": [
        "df.info()"
      ]
    },
    {
      "cell_type": "code",
      "execution_count": 5,
      "id": "466c3b50",
      "metadata": {
        "id": "466c3b50",
        "outputId": "de6a7ded-22dc-47c0-813d-03e7b38d9017",
        "colab": {
          "base_uri": "https://localhost:8080/",
          "height": 354
        }
      },
      "outputs": [
        {
          "output_type": "stream",
          "name": "stderr",
          "text": [
            "/usr/local/lib/python3.7/dist-packages/seaborn/_decorators.py:43: FutureWarning: Pass the following variable as a keyword arg: x. From version 0.12, the only valid positional argument will be `data`, and passing other arguments without an explicit keyword will result in an error or misinterpretation.\n",
            "  FutureWarning\n"
          ]
        },
        {
          "output_type": "execute_result",
          "data": {
            "text/plain": [
              "<matplotlib.axes._subplots.AxesSubplot at 0x7f4ecf8e1650>"
            ]
          },
          "metadata": {},
          "execution_count": 5
        },
        {
          "output_type": "display_data",
          "data": {
            "text/plain": [
              "<Figure size 432x288 with 1 Axes>"
            ],
            "image/png": "[encoded data removed]"
          },
          "metadata": {
            "needs_background": "light"
          }
        }
      ],
      "source": [
        "sns.countplot(df['Class Name'])"
      ]
    },
    {
      "cell_type": "code",
      "execution_count": 6,
      "id": "3844ba28",
      "metadata": {
        "id": "3844ba28",
        "outputId": "8df4f291-d432-4dd2-9d51-2dd5f48543b8",
        "colab": {
          "base_uri": "https://localhost:8080/",
          "height": 351
        }
      },
      "outputs": [
        {
          "output_type": "stream",
          "name": "stderr",
          "text": [
            "/usr/local/lib/python3.7/dist-packages/seaborn/_decorators.py:43: FutureWarning: Pass the following variable as a keyword arg: x. From version 0.12, the only valid positional argument will be `data`, and passing other arguments without an explicit keyword will result in an error or misinterpretation.\n",
            "  FutureWarning\n"
          ]
        },
        {
          "output_type": "execute_result",
          "data": {
            "text/plain": [
              "<matplotlib.axes._subplots.AxesSubplot at 0x7f4ee3fb54d0>"
            ]
          },
          "metadata": {},
          "execution_count": 6
        },
        {
          "output_type": "display_data",
          "data": {
            "text/plain": [
              "<Figure size 432x288 with 1 Axes>"
            ],
            "image/png": "[encoded data removed]"
          },
          "metadata": {
            "needs_background": "light"
          }
        }
      ],
      "source": [
        "sns.countplot(df['Left weight'],hue=df['Class Name'])"
      ]
    },
    {
      "cell_type": "code",
      "execution_count": 7,
      "id": "c7a3009d",
      "metadata": {
        "id": "c7a3009d",
        "outputId": "89846c2c-49e0-4d3b-f3e9-d409cdbe5634",
        "colab": {
          "base_uri": "https://localhost:8080/",
          "height": 351
        }
      },
      "outputs": [
        {
          "output_type": "stream",
          "name": "stderr",
          "text": [
            "/usr/local/lib/python3.7/dist-packages/seaborn/_decorators.py:43: FutureWarning: Pass the following variable as a keyword arg: x. From version 0.12, the only valid positional argument will be `data`, and passing other arguments without an explicit keyword will result in an error or misinterpretation.\n",
            "  FutureWarning\n"
          ]
        },
        {
          "output_type": "execute_result",
          "data": {
            "text/plain": [
              "<matplotlib.axes._subplots.AxesSubplot at 0x7f4ecdb1c190>"
            ]
          },
          "metadata": {},
          "execution_count": 7
        },
        {
          "output_type": "display_data",
          "data": {
            "text/plain": [
              "<Figure size 432x288 with 1 Axes>"
            ],
            "image/png": "[encoded data removed]"
          },
          "metadata": {
            "needs_background": "light"
          }
        }
      ],
      "source": [
        "sns.countplot(df['Right weight'],hue=df['Class Name'])"
      ]
    },
    {
      "cell_type": "code",
      "execution_count": 8,
      "id": "2d713654",
      "metadata": {
        "id": "2d713654"
      },
      "outputs": [],
      "source": [
        "from sklearn.model_selection import train_test_split\n",
        "X = df.drop('Class Name',axis=1)\n",
        "y = df[['Class Name']]\n",
        "X_train, X_test, y_train, y_test = train_test_split(X, y, test_size = 0.3,random_state=42)"
      ]
    },
    {
      "cell_type": "code",
      "execution_count": 9,
      "id": "aac5336d",
      "metadata": {
        "id": "aac5336d",
        "outputId": "01e5dce7-9083-413f-a8f2-298bb7c86e55",
        "colab": {
          "base_uri": "https://localhost:8080/"
        }
      },
      "outputs": [
        {
          "output_type": "execute_result",
          "data": {
            "text/plain": [
              "DecisionTreeClassifier(max_depth=3, min_samples_leaf=5, random_state=42)"
            ]
          },
          "metadata": {},
          "execution_count": 9
        }
      ],
      "source": [
        "from sklearn.tree import DecisionTreeClassifier\n",
        "clf_model = DecisionTreeClassifier(criterion=\"gini\", random_state=42,max_depth=3, min_samples_leaf=5)   \n",
        "clf_model.fit(X_train,y_train)"
      ]
    },
    {
      "cell_type": "code",
      "execution_count": 10,
      "id": "6795e1c4",
      "metadata": {
        "id": "6795e1c4"
      },
      "outputs": [],
      "source": [
        "y_predict = clf_model.predict(X_test)"
      ]
    },
    {
      "cell_type": "code",
      "execution_count": 11,
      "id": "cb9aad17",
      "metadata": {
        "id": "cb9aad17",
        "outputId": "9cb9ed4c-b894-4cab-cef3-54cbf8234266",
        "colab": {
          "base_uri": "https://localhost:8080/"
        }
      },
      "outputs": [
        {
          "output_type": "execute_result",
          "data": {
            "text/plain": [
              "0.7021276595744681"
            ]
          },
          "metadata": {},
          "execution_count": 11
        }
      ],
      "source": [
        "from sklearn.metrics import accuracy_score,classification_report,confusion_matrix\n",
        "accuracy_score(y_test,y_predict)"
      ]
    },
    {
      "cell_type": "code",
      "execution_count": 12,
      "id": "2b8738d9",
      "metadata": {
        "id": "2b8738d9"
      },
      "outputs": [],
      "source": [
        "target = list(df['Class Name'].unique())\n",
        "feature_names = list(X.columns)"
      ]
    },
    {
      "cell_type": "code",
      "execution_count": 13,
      "id": "18098b21",
      "metadata": {
        "id": "18098b21",
        "outputId": "da697bbf-edcf-4e9e-b48b-2980a87cfa5c",
        "colab": {
          "base_uri": "https://localhost:8080/"
        }
      },
      "outputs": [
        {
          "output_type": "stream",
          "name": "stdout",
          "text": [
            "Looking in indexes: https://pypi.org/simple, https://us-python.pkg.dev/colab-wheels/public/simple/\n",
            "Requirement already satisfied: graphviz in /usr/local/lib/python3.7/dist-packages (0.10.1)\n"
          ]
        }
      ],
      "source": [
        "!pip install graphviz"
      ]
    },
    {
      "cell_type": "code",
      "execution_count": null,
      "id": "a04e5d44",
      "metadata": {
        "id": "a04e5d44",
        "outputId": "91cd382f-ab74-4e13-b9cf-c33c6c3512f9"
      },
      "outputs": [
        {
          "data": {
            "image/svg+xml": [
              "<?xml version=\"1.0\" encoding=\"UTF-8\" standalone=\"no\"?>\n",
              "<!DOCTYPE svg PUBLIC \"-//W3C//DTD SVG 1.1//EN\"\n",
              " \"http://www.w3.org/Graphics/SVG/1.1/DTD/svg11.dtd\">\n",
              "<!-- Generated by graphviz version 6.0.2 (20221011.1828)\n",
              " -->\n",
              "<!-- Title: Tree Pages: 1 -->\n",
              "<svg width=\"1126pt\" height=\"433pt\"\n",
              " viewBox=\"0.00 0.00 1126.00 433.00\" xmlns=\"http://www.w3.org/2000/svg\" xmlns:xlink=\"http://www.w3.org/1999/xlink\">\n",
              "<g id=\"graph0\" class=\"graph\" transform=\"scale(1 1) rotate(0) translate(4 429)\">\n",
              "<title>Tree</title>\n",
              "<polygon fill=\"white\" stroke=\"none\" points=\"-4,4 -4,-429 1122,-429 1122,4 -4,4\"/>\n",
              "<!-- 0 -->\n",
              "<g id=\"node1\" class=\"node\">\n",
              "<title>0</title>\n",
              "<path fill=\"#f7fefa\" stroke=\"black\" d=\"M602.5,-425C602.5,-425 472.5,-425 472.5,-425 466.5,-425 460.5,-419 460.5,-413 460.5,-413 460.5,-354 460.5,-354 460.5,-348 466.5,-342 472.5,-342 472.5,-342 602.5,-342 602.5,-342 608.5,-342 614.5,-348 614.5,-354 614.5,-354 614.5,-413 614.5,-413 614.5,-419 608.5,-425 602.5,-425\"/>\n",
              "<text text-anchor=\"start\" x=\"485\" y=\"-409.8\" font-family=\"Helvetica,sans-Serif\" font-size=\"14.00\">Left weight ≤ 2.5</text>\n",
              "<text text-anchor=\"start\" x=\"500\" y=\"-394.8\" font-family=\"Helvetica,sans-Serif\" font-size=\"14.00\">gini = 0.563</text>\n",
              "<text text-anchor=\"start\" x=\"490\" y=\"-379.8\" font-family=\"Helvetica,sans-Serif\" font-size=\"14.00\">samples = 437</text>\n",
              "<text text-anchor=\"start\" x=\"468.5\" y=\"-364.8\" font-family=\"Helvetica,sans-Serif\" font-size=\"14.00\">value = [31, 208, 198]</text>\n",
              "<text text-anchor=\"start\" x=\"507.5\" y=\"-349.8\" font-family=\"Helvetica,sans-Serif\" font-size=\"14.00\">class = R</text>\n",
              "</g>\n",
              "<!-- 1 -->\n",
              "<g id=\"node2\" class=\"node\">\n",
              "<title>1</title>\n",
              "<path fill=\"#b48af0\" stroke=\"black\" d=\"M461.5,-306C461.5,-306 339.5,-306 339.5,-306 333.5,-306 327.5,-300 327.5,-294 327.5,-294 327.5,-235 327.5,-235 327.5,-229 333.5,-223 339.5,-223 339.5,-223 461.5,-223 461.5,-223 467.5,-223 473.5,-229 473.5,-235 473.5,-235 473.5,-294 473.5,-294 473.5,-300 467.5,-306 461.5,-306\"/>\n",
              "<text text-anchor=\"start\" x=\"337.5\" y=\"-290.8\" font-family=\"Helvetica,sans-Serif\" font-size=\"14.00\">Right distance ≤ 1.5</text>\n",
              "<text text-anchor=\"start\" x=\"363\" y=\"-275.8\" font-family=\"Helvetica,sans-Serif\" font-size=\"14.00\">gini = 0.461</text>\n",
              "<text text-anchor=\"start\" x=\"353\" y=\"-260.8\" font-family=\"Helvetica,sans-Serif\" font-size=\"14.00\">samples = 171</text>\n",
              "<text text-anchor=\"start\" x=\"335.5\" y=\"-245.8\" font-family=\"Helvetica,sans-Serif\" font-size=\"14.00\">value = [12, 41, 118]</text>\n",
              "<text text-anchor=\"start\" x=\"371.5\" y=\"-230.8\" font-family=\"Helvetica,sans-Serif\" font-size=\"14.00\">class = L</text>\n",
              "</g>\n",
              "<!-- 0&#45;&gt;1 -->\n",
              "<g id=\"edge1\" class=\"edge\">\n",
              "<title>0&#45;&gt;1</title>\n",
              "<path fill=\"none\" stroke=\"black\" d=\"M489.97,-341.91C478.92,-332.47 467.06,-322.34 455.71,-312.65\"/>\n",
              "<polygon fill=\"black\" stroke=\"black\" points=\"457.82,-309.85 447.95,-306.02 453.28,-315.18 457.82,-309.85\"/>\n",
              "<text text-anchor=\"middle\" x=\"449.91\" y=\"-327.24\" font-family=\"Helvetica,sans-Serif\" font-size=\"14.00\">True</text>\n",
              "</g>\n",
              "<!-- 8 -->\n",
              "<g id=\"node9\" class=\"node\">\n",
              "<title>8</title>\n",
              "<path fill=\"#a2f3c4\" stroke=\"black\" d=\"M748.5,-306C748.5,-306 626.5,-306 626.5,-306 620.5,-306 614.5,-300 614.5,-294 614.5,-294 614.5,-235 614.5,-235 614.5,-229 620.5,-223 626.5,-223 626.5,-223 748.5,-223 748.5,-223 754.5,-223 760.5,-229 760.5,-235 760.5,-235 760.5,-294 760.5,-294 760.5,-300 754.5,-306 748.5,-306\"/>\n",
              "<text text-anchor=\"start\" x=\"628.5\" y=\"-290.8\" font-family=\"Helvetica,sans-Serif\" font-size=\"14.00\">Left distance ≤ 2.5</text>\n",
              "<text text-anchor=\"start\" x=\"654\" y=\"-275.8\" font-family=\"Helvetica,sans-Serif\" font-size=\"14.00\">gini = 0.51</text>\n",
              "<text text-anchor=\"start\" x=\"640\" y=\"-260.8\" font-family=\"Helvetica,sans-Serif\" font-size=\"14.00\">samples = 266</text>\n",
              "<text text-anchor=\"start\" x=\"622.5\" y=\"-245.8\" font-family=\"Helvetica,sans-Serif\" font-size=\"14.00\">value = [19, 167, 80]</text>\n",
              "<text text-anchor=\"start\" x=\"657.5\" y=\"-230.8\" font-family=\"Helvetica,sans-Serif\" font-size=\"14.00\">class = R</text>\n",
              "</g>\n",
              "<!-- 0&#45;&gt;8 -->\n",
              "<g id=\"edge8\" class=\"edge\">\n",
              "<title>0&#45;&gt;8</title>\n",
              "<path fill=\"none\" stroke=\"black\" d=\"M589.54,-341.91C601.76,-332.38 614.87,-322.15 627.41,-312.37\"/>\n",
              "<polygon fill=\"black\" stroke=\"black\" points=\"629.82,-314.93 635.55,-306.02 625.51,-309.41 629.82,-314.93\"/>\n",
              "<text text-anchor=\"middle\" x=\"632.48\" y=\"-327.13\" font-family=\"Helvetica,sans-Serif\" font-size=\"14.00\">False</text>\n",
              "</g>\n",
              "<!-- 2 -->\n",
              "<g id=\"node3\" class=\"node\">\n",
              "<title>2</title>\n",
              "<path fill=\"#94f1bb\" stroke=\"black\" d=\"M246.5,-187C246.5,-187 136.5,-187 136.5,-187 130.5,-187 124.5,-181 124.5,-175 124.5,-175 124.5,-116 124.5,-116 124.5,-110 130.5,-104 136.5,-104 136.5,-104 246.5,-104 246.5,-104 252.5,-104 258.5,-110 258.5,-116 258.5,-116 258.5,-175 258.5,-175 258.5,-181 252.5,-187 246.5,-187\"/>\n",
              "<text text-anchor=\"start\" x=\"132.5\" y=\"-171.8\" font-family=\"Helvetica,sans-Serif\" font-size=\"14.00\">Left distance ≤ 2.5</text>\n",
              "<text text-anchor=\"start\" x=\"154\" y=\"-156.8\" font-family=\"Helvetica,sans-Serif\" font-size=\"14.00\">gini = 0.498</text>\n",
              "<text text-anchor=\"start\" x=\"148\" y=\"-141.8\" font-family=\"Helvetica,sans-Serif\" font-size=\"14.00\">samples = 32</text>\n",
              "<text text-anchor=\"start\" x=\"139\" y=\"-126.8\" font-family=\"Helvetica,sans-Serif\" font-size=\"14.00\">value = [3, 21, 8]</text>\n",
              "<text text-anchor=\"start\" x=\"161.5\" y=\"-111.8\" font-family=\"Helvetica,sans-Serif\" font-size=\"14.00\">class = R</text>\n",
              "</g>\n",
              "<!-- 1&#45;&gt;2 -->\n",
              "<g id=\"edge2\" class=\"edge\">\n",
              "<title>1&#45;&gt;2</title>\n",
              "<path fill=\"none\" stroke=\"black\" d=\"M327.99,-222.91C308.46,-211.98 287.28,-200.12 267.57,-189.08\"/>\n",
              "<polygon fill=\"black\" stroke=\"black\" points=\"269.06,-185.91 258.62,-184.08 265.64,-192.01 269.06,-185.91\"/>\n",
              "</g>\n",
              "<!-- 5 -->\n",
              "<g id=\"node6\" class=\"node\">\n",
              "<title>5</title>\n",
              "<path fill=\"#a069eb\" stroke=\"black\" d=\"M457,-187C457,-187 344,-187 344,-187 338,-187 332,-181 332,-175 332,-175 332,-116 332,-116 332,-110 338,-104 344,-104 344,-104 457,-104 457,-104 463,-104 469,-110 469,-116 469,-116 469,-175 469,-175 469,-181 463,-187 457,-187\"/>\n",
              "<text text-anchor=\"start\" x=\"344\" y=\"-171.8\" font-family=\"Helvetica,sans-Serif\" font-size=\"14.00\">Right weight ≤ 2.5</text>\n",
              "<text text-anchor=\"start\" x=\"363\" y=\"-156.8\" font-family=\"Helvetica,sans-Serif\" font-size=\"14.00\">gini = 0.349</text>\n",
              "<text text-anchor=\"start\" x=\"353\" y=\"-141.8\" font-family=\"Helvetica,sans-Serif\" font-size=\"14.00\">samples = 139</text>\n",
              "<text text-anchor=\"start\" x=\"340\" y=\"-126.8\" font-family=\"Helvetica,sans-Serif\" font-size=\"14.00\">value = [9, 20, 110]</text>\n",
              "<text text-anchor=\"start\" x=\"371.5\" y=\"-111.8\" font-family=\"Helvetica,sans-Serif\" font-size=\"14.00\">class = L</text>\n",
              "</g>\n",
              "<!-- 1&#45;&gt;5 -->\n",
              "<g id=\"edge5\" class=\"edge\">\n",
              "<title>1&#45;&gt;5</title>\n",
              "<path fill=\"none\" stroke=\"black\" d=\"M400.5,-222.91C400.5,-214.65 400.5,-205.86 400.5,-197.3\"/>\n",
              "<polygon fill=\"black\" stroke=\"black\" points=\"404,-197.02 400.5,-187.02 397,-197.02 404,-197.02\"/>\n",
              "</g>\n",
              "<!-- 3 -->\n",
              "<g id=\"node4\" class=\"node\">\n",
              "<title>3</title>\n",
              "<path fill=\"#e0cef8\" stroke=\"black\" d=\"M101,-68C101,-68 12,-68 12,-68 6,-68 0,-62 0,-56 0,-56 0,-12 0,-12 0,-6 6,0 12,0 12,0 101,0 101,0 107,0 113,-6 113,-12 113,-12 113,-56 113,-56 113,-62 107,-68 101,-68\"/>\n",
              "<text text-anchor=\"start\" x=\"19\" y=\"-52.8\" font-family=\"Helvetica,sans-Serif\" font-size=\"14.00\">gini = 0.611</text>\n",
              "<text text-anchor=\"start\" x=\"13\" y=\"-37.8\" font-family=\"Helvetica,sans-Serif\" font-size=\"14.00\">samples = 12</text>\n",
              "<text text-anchor=\"start\" x=\"8\" y=\"-22.8\" font-family=\"Helvetica,sans-Serif\" font-size=\"14.00\">value = [2, 4, 6]</text>\n",
              "<text text-anchor=\"start\" x=\"27.5\" y=\"-7.8\" font-family=\"Helvetica,sans-Serif\" font-size=\"14.00\">class = L</text>\n",
              "</g>\n",
              "<!-- 2&#45;&gt;3 -->\n",
              "<g id=\"edge3\" class=\"edge\">\n",
              "<title>2&#45;&gt;3</title>\n",
              "<path fill=\"none\" stroke=\"black\" d=\"M141.23,-103.73C129.54,-94.24 117.1,-84.16 105.46,-74.72\"/>\n",
              "<polygon fill=\"black\" stroke=\"black\" points=\"107.53,-71.88 97.55,-68.3 103.12,-77.32 107.53,-71.88\"/>\n",
              "</g>\n",
              "<!-- 4 -->\n",
              "<g id=\"node5\" class=\"node\">\n",
              "<title>4</title>\n",
              "<path fill=\"#5ae996\" stroke=\"black\" d=\"M240,-68C240,-68 143,-68 143,-68 137,-68 131,-62 131,-56 131,-56 131,-12 131,-12 131,-6 137,0 143,0 143,0 240,0 240,0 246,0 252,-6 252,-12 252,-12 252,-56 252,-56 252,-62 246,-68 240,-68\"/>\n",
              "<text text-anchor=\"start\" x=\"154\" y=\"-52.8\" font-family=\"Helvetica,sans-Serif\" font-size=\"14.00\">gini = 0.265</text>\n",
              "<text text-anchor=\"start\" x=\"148\" y=\"-37.8\" font-family=\"Helvetica,sans-Serif\" font-size=\"14.00\">samples = 20</text>\n",
              "<text text-anchor=\"start\" x=\"139\" y=\"-22.8\" font-family=\"Helvetica,sans-Serif\" font-size=\"14.00\">value = [1, 17, 2]</text>\n",
              "<text text-anchor=\"start\" x=\"161.5\" y=\"-7.8\" font-family=\"Helvetica,sans-Serif\" font-size=\"14.00\">class = R</text>\n",
              "</g>\n",
              "<!-- 2&#45;&gt;4 -->\n",
              "<g id=\"edge4\" class=\"edge\">\n",
              "<title>2&#45;&gt;4</title>\n",
              "<path fill=\"none\" stroke=\"black\" d=\"M191.5,-103.73C191.5,-95.52 191.5,-86.86 191.5,-78.56\"/>\n",
              "<polygon fill=\"black\" stroke=\"black\" points=\"195,-78.3 191.5,-68.3 188,-78.3 195,-78.3\"/>\n",
              "</g>\n",
              "<!-- 6 -->\n",
              "<g id=\"node7\" class=\"node\">\n",
              "<title>6</title>\n",
              "<path fill=\"#dcc7f8\" stroke=\"black\" d=\"M387,-68C387,-68 282,-68 282,-68 276,-68 270,-62 270,-56 270,-56 270,-12 270,-12 270,-6 276,0 282,0 282,0 387,0 387,0 393,0 399,-6 399,-12 399,-12 399,-56 399,-56 399,-62 393,-68 387,-68\"/>\n",
              "<text text-anchor=\"start\" x=\"297\" y=\"-52.8\" font-family=\"Helvetica,sans-Serif\" font-size=\"14.00\">gini = 0.583</text>\n",
              "<text text-anchor=\"start\" x=\"291\" y=\"-37.8\" font-family=\"Helvetica,sans-Serif\" font-size=\"14.00\">samples = 49</text>\n",
              "<text text-anchor=\"start\" x=\"278\" y=\"-22.8\" font-family=\"Helvetica,sans-Serif\" font-size=\"14.00\">value = [6, 17, 26]</text>\n",
              "<text text-anchor=\"start\" x=\"305.5\" y=\"-7.8\" font-family=\"Helvetica,sans-Serif\" font-size=\"14.00\">class = L</text>\n",
              "</g>\n",
              "<!-- 5&#45;&gt;6 -->\n",
              "<g id=\"edge6\" class=\"edge\">\n",
              "<title>5&#45;&gt;6</title>\n",
              "<path fill=\"none\" stroke=\"black\" d=\"M375.92,-103.73C370.65,-94.97 365.06,-85.7 359.76,-76.91\"/>\n",
              "<polygon fill=\"black\" stroke=\"black\" points=\"362.73,-75.06 354.57,-68.3 356.74,-78.67 362.73,-75.06\"/>\n",
              "</g>\n",
              "<!-- 7 -->\n",
              "<g id=\"node8\" class=\"node\">\n",
              "<title>7</title>\n",
              "<path fill=\"#8a47e7\" stroke=\"black\" d=\"M526,-68C526,-68 429,-68 429,-68 423,-68 417,-62 417,-56 417,-56 417,-12 417,-12 417,-6 423,0 429,0 429,0 526,0 526,0 532,0 538,-6 538,-12 538,-12 538,-56 538,-56 538,-62 532,-68 526,-68\"/>\n",
              "<text text-anchor=\"start\" x=\"440\" y=\"-52.8\" font-family=\"Helvetica,sans-Serif\" font-size=\"14.00\">gini = 0.127</text>\n",
              "<text text-anchor=\"start\" x=\"434\" y=\"-37.8\" font-family=\"Helvetica,sans-Serif\" font-size=\"14.00\">samples = 90</text>\n",
              "<text text-anchor=\"start\" x=\"425\" y=\"-22.8\" font-family=\"Helvetica,sans-Serif\" font-size=\"14.00\">value = [3, 3, 84]</text>\n",
              "<text text-anchor=\"start\" x=\"448.5\" y=\"-7.8\" font-family=\"Helvetica,sans-Serif\" font-size=\"14.00\">class = L</text>\n",
              "</g>\n",
              "<!-- 5&#45;&gt;7 -->\n",
              "<g id=\"edge7\" class=\"edge\">\n",
              "<title>5&#45;&gt;7</title>\n",
              "<path fill=\"none\" stroke=\"black\" d=\"M429.17,-103.73C435.39,-94.88 441.98,-85.51 448.23,-76.63\"/>\n",
              "<polygon fill=\"black\" stroke=\"black\" points=\"451.19,-78.49 454.08,-68.3 445.47,-74.47 451.19,-78.49\"/>\n",
              "</g>\n",
              "<!-- 9 -->\n",
              "<g id=\"node10\" class=\"node\">\n",
              "<title>9</title>\n",
              "<path fill=\"#dac5f7\" stroke=\"black\" d=\"M740,-187C740,-187 635,-187 635,-187 629,-187 623,-181 623,-175 623,-175 623,-116 623,-116 623,-110 629,-104 635,-104 635,-104 740,-104 740,-104 746,-104 752,-110 752,-116 752,-116 752,-175 752,-175 752,-181 746,-187 740,-187\"/>\n",
              "<text text-anchor=\"start\" x=\"631\" y=\"-171.8\" font-family=\"Helvetica,sans-Serif\" font-size=\"14.00\">Right weight ≤ 2.5</text>\n",
              "<text text-anchor=\"start\" x=\"650\" y=\"-156.8\" font-family=\"Helvetica,sans-Serif\" font-size=\"14.00\">gini = 0.544</text>\n",
              "<text text-anchor=\"start\" x=\"640\" y=\"-141.8\" font-family=\"Helvetica,sans-Serif\" font-size=\"14.00\">samples = 104</text>\n",
              "<text text-anchor=\"start\" x=\"631\" y=\"-126.8\" font-family=\"Helvetica,sans-Serif\" font-size=\"14.00\">value = [7, 39, 58]</text>\n",
              "<text text-anchor=\"start\" x=\"658.5\" y=\"-111.8\" font-family=\"Helvetica,sans-Serif\" font-size=\"14.00\">class = L</text>\n",
              "</g>\n",
              "<!-- 8&#45;&gt;9 -->\n",
              "<g id=\"edge9\" class=\"edge\">\n",
              "<title>8&#45;&gt;9</title>\n",
              "<path fill=\"none\" stroke=\"black\" d=\"M687.5,-222.91C687.5,-214.65 687.5,-205.86 687.5,-197.3\"/>\n",
              "<polygon fill=\"black\" stroke=\"black\" points=\"691,-197.02 687.5,-187.02 684,-197.02 691,-197.02\"/>\n",
              "</g>\n",
              "<!-- 12 -->\n",
              "<g id=\"node13\" class=\"node\">\n",
              "<title>12</title>\n",
              "<path fill=\"#69eba0\" stroke=\"black\" d=\"M971.5,-187C971.5,-187 849.5,-187 849.5,-187 843.5,-187 837.5,-181 837.5,-175 837.5,-175 837.5,-116 837.5,-116 837.5,-110 843.5,-104 849.5,-104 849.5,-104 971.5,-104 971.5,-104 977.5,-104 983.5,-110 983.5,-116 983.5,-116 983.5,-175 983.5,-175 983.5,-181 977.5,-187 971.5,-187\"/>\n",
              "<text text-anchor=\"start\" x=\"847.5\" y=\"-171.8\" font-family=\"Helvetica,sans-Serif\" font-size=\"14.00\">Right distance ≤ 3.5</text>\n",
              "<text text-anchor=\"start\" x=\"873\" y=\"-156.8\" font-family=\"Helvetica,sans-Serif\" font-size=\"14.00\">gini = 0.352</text>\n",
              "<text text-anchor=\"start\" x=\"863\" y=\"-141.8\" font-family=\"Helvetica,sans-Serif\" font-size=\"14.00\">samples = 162</text>\n",
              "<text text-anchor=\"start\" x=\"845.5\" y=\"-126.8\" font-family=\"Helvetica,sans-Serif\" font-size=\"14.00\">value = [12, 128, 22]</text>\n",
              "<text text-anchor=\"start\" x=\"880.5\" y=\"-111.8\" font-family=\"Helvetica,sans-Serif\" font-size=\"14.00\">class = R</text>\n",
              "</g>\n",
              "<!-- 8&#45;&gt;12 -->\n",
              "<g id=\"edge12\" class=\"edge\">\n",
              "<title>8&#45;&gt;12</title>\n",
              "<path fill=\"none\" stroke=\"black\" d=\"M760.52,-225.19C782.18,-213.83 806.04,-201.3 828.25,-189.66\"/>\n",
              "<polygon fill=\"black\" stroke=\"black\" points=\"830.09,-192.64 837.32,-184.9 826.84,-186.44 830.09,-192.64\"/>\n",
              "</g>\n",
              "<!-- 10 -->\n",
              "<g id=\"node11\" class=\"node\">\n",
              "<title>10</title>\n",
              "<path fill=\"#8df0b6\" stroke=\"black\" d=\"M673,-68C673,-68 568,-68 568,-68 562,-68 556,-62 556,-56 556,-56 556,-12 556,-12 556,-6 562,0 568,0 568,0 673,0 673,0 679,0 685,-6 685,-12 685,-12 685,-56 685,-56 685,-62 679,-68 673,-68\"/>\n",
              "<text text-anchor=\"start\" x=\"583\" y=\"-52.8\" font-family=\"Helvetica,sans-Serif\" font-size=\"14.00\">gini = 0.482</text>\n",
              "<text text-anchor=\"start\" x=\"577\" y=\"-37.8\" font-family=\"Helvetica,sans-Serif\" font-size=\"14.00\">samples = 43</text>\n",
              "<text text-anchor=\"start\" x=\"564\" y=\"-22.8\" font-family=\"Helvetica,sans-Serif\" font-size=\"14.00\">value = [4, 29, 10]</text>\n",
              "<text text-anchor=\"start\" x=\"590.5\" y=\"-7.8\" font-family=\"Helvetica,sans-Serif\" font-size=\"14.00\">class = R</text>\n",
              "</g>\n",
              "<!-- 9&#45;&gt;10 -->\n",
              "<g id=\"edge10\" class=\"edge\">\n",
              "<title>9&#45;&gt;10</title>\n",
              "<path fill=\"none\" stroke=\"black\" d=\"M662.55,-103.73C657.19,-94.97 651.52,-85.7 646.14,-76.91\"/>\n",
              "<polygon fill=\"black\" stroke=\"black\" points=\"649.08,-75 640.88,-68.3 643.11,-78.66 649.08,-75\"/>\n",
              "</g>\n",
              "<!-- 11 -->\n",
              "<g id=\"node12\" class=\"node\">\n",
              "<title>11</title>\n",
              "<path fill=\"#a16bec\" stroke=\"black\" d=\"M820,-68C820,-68 715,-68 715,-68 709,-68 703,-62 703,-56 703,-56 703,-12 703,-12 703,-6 709,0 715,0 715,0 820,0 820,0 826,0 832,-6 832,-12 832,-12 832,-56 832,-56 832,-62 826,-68 820,-68\"/>\n",
              "<text text-anchor=\"start\" x=\"730\" y=\"-52.8\" font-family=\"Helvetica,sans-Serif\" font-size=\"14.00\">gini = 0.352</text>\n",
              "<text text-anchor=\"start\" x=\"724\" y=\"-37.8\" font-family=\"Helvetica,sans-Serif\" font-size=\"14.00\">samples = 61</text>\n",
              "<text text-anchor=\"start\" x=\"711\" y=\"-22.8\" font-family=\"Helvetica,sans-Serif\" font-size=\"14.00\">value = [3, 10, 48]</text>\n",
              "<text text-anchor=\"start\" x=\"738.5\" y=\"-7.8\" font-family=\"Helvetica,sans-Serif\" font-size=\"14.00\">class = L</text>\n",
              "</g>\n",
              "<!-- 9&#45;&gt;11 -->\n",
              "<g id=\"edge11\" class=\"edge\">\n",
              "<title>9&#45;&gt;11</title>\n",
              "<path fill=\"none\" stroke=\"black\" d=\"M717.29,-103.73C723.75,-94.88 730.6,-85.51 737.09,-76.63\"/>\n",
              "<polygon fill=\"black\" stroke=\"black\" points=\"740.1,-78.44 743.17,-68.3 734.45,-74.31 740.1,-78.44\"/>\n",
              "</g>\n",
              "<!-- 13 -->\n",
              "<g id=\"node14\" class=\"node\">\n",
              "<title>13</title>\n",
              "<path fill=\"#47e78a\" stroke=\"black\" d=\"M959,-68C959,-68 862,-68 862,-68 856,-68 850,-62 850,-56 850,-56 850,-12 850,-12 850,-6 856,0 862,0 862,0 959,0 959,0 965,0 971,-6 971,-12 971,-12 971,-56 971,-56 971,-62 965,-68 959,-68\"/>\n",
              "<text text-anchor=\"start\" x=\"873\" y=\"-52.8\" font-family=\"Helvetica,sans-Serif\" font-size=\"14.00\">gini = 0.133</text>\n",
              "<text text-anchor=\"start\" x=\"863\" y=\"-37.8\" font-family=\"Helvetica,sans-Serif\" font-size=\"14.00\">samples = 100</text>\n",
              "<text text-anchor=\"start\" x=\"858\" y=\"-22.8\" font-family=\"Helvetica,sans-Serif\" font-size=\"14.00\">value = [4, 93, 3]</text>\n",
              "<text text-anchor=\"start\" x=\"880.5\" y=\"-7.8\" font-family=\"Helvetica,sans-Serif\" font-size=\"14.00\">class = R</text>\n",
              "</g>\n",
              "<!-- 12&#45;&gt;13 -->\n",
              "<g id=\"edge13\" class=\"edge\">\n",
              "<title>12&#45;&gt;13</title>\n",
              "<path fill=\"none\" stroke=\"black\" d=\"M910.5,-103.73C910.5,-95.52 910.5,-86.86 910.5,-78.56\"/>\n",
              "<polygon fill=\"black\" stroke=\"black\" points=\"914,-78.3 910.5,-68.3 907,-78.3 914,-78.3\"/>\n",
              "</g>\n",
              "<!-- 14 -->\n",
              "<g id=\"node15\" class=\"node\">\n",
              "<title>14</title>\n",
              "<path fill=\"#b5f5d0\" stroke=\"black\" d=\"M1106,-68C1106,-68 1001,-68 1001,-68 995,-68 989,-62 989,-56 989,-56 989,-12 989,-12 989,-6 995,0 1001,0 1001,0 1106,0 1106,0 1112,0 1118,-6 1118,-12 1118,-12 1118,-56 1118,-56 1118,-62 1112,-68 1106,-68\"/>\n",
              "<text text-anchor=\"start\" x=\"1016\" y=\"-52.8\" font-family=\"Helvetica,sans-Serif\" font-size=\"14.00\">gini = 0.571</text>\n",
              "<text text-anchor=\"start\" x=\"1010\" y=\"-37.8\" font-family=\"Helvetica,sans-Serif\" font-size=\"14.00\">samples = 62</text>\n",
              "<text text-anchor=\"start\" x=\"997\" y=\"-22.8\" font-family=\"Helvetica,sans-Serif\" font-size=\"14.00\">value = [8, 35, 19]</text>\n",
              "<text text-anchor=\"start\" x=\"1023.5\" y=\"-7.8\" font-family=\"Helvetica,sans-Serif\" font-size=\"14.00\">class = R</text>\n",
              "</g>\n",
              "<!-- 12&#45;&gt;14 -->\n",
              "<g id=\"edge14\" class=\"edge\">\n",
              "<title>12&#45;&gt;14</title>\n",
              "<path fill=\"none\" stroke=\"black\" d=\"M963.75,-103.73C976.25,-94.15 989.56,-83.96 1001.99,-74.44\"/>\n",
              "<polygon fill=\"black\" stroke=\"black\" points=\"1004.2,-77.16 1010.01,-68.3 999.95,-71.6 1004.2,-77.16\"/>\n",
              "</g>\n",
              "</g>\n",
              "</svg>\n"
            ],
            "text/plain": [
              "<graphviz.sources.Source at 0x210321c2760>"
            ]
          },
          "execution_count": 12,
          "metadata": {},
          "output_type": "execute_result"
        }
      ],
      "source": [
        "from sklearn import tree\n",
        "import graphviz\n",
        "dot_data = tree.export_graphviz(clf_model,\n",
        "                                out_file=None, \n",
        "                      feature_names=feature_names,  \n",
        "                      class_names=target,  \n",
        "                      filled=True, rounded=True,  \n",
        "                      special_characters=True)  \n",
        "graph = graphviz.Source(dot_data)  \n",
        "\n",
        "graph"
      ]
    },
    {
      "cell_type": "code",
      "execution_count": 14,
      "id": "cd82ed07",
      "metadata": {
        "id": "cd82ed07",
        "outputId": "febc9e03-9b0b-4376-de96-ef7abb326cab",
        "colab": {
          "base_uri": "https://localhost:8080/"
        }
      },
      "outputs": [
        {
          "output_type": "stream",
          "name": "stdout",
          "text": [
            "|--- Left weight <= 2.50\n",
            "|   |--- Right distance <= 1.50\n",
            "|   |   |--- Left distance <= 2.50\n",
            "|   |   |   |--- class: R\n",
            "|   |   |--- Left distance >  2.50\n",
            "|   |   |   |--- class: L\n",
            "|   |--- Right distance >  1.50\n",
            "|   |   |--- Right weight <= 2.50\n",
            "|   |   |   |--- class: R\n",
            "|   |   |--- Right weight >  2.50\n",
            "|   |   |   |--- class: R\n",
            "|--- Left weight >  2.50\n",
            "|   |--- Left distance <= 2.50\n",
            "|   |   |--- Right weight <= 2.50\n",
            "|   |   |   |--- class: L\n",
            "|   |   |--- Right weight >  2.50\n",
            "|   |   |   |--- class: R\n",
            "|   |--- Left distance >  2.50\n",
            "|   |   |--- Right distance <= 3.50\n",
            "|   |   |   |--- class: L\n",
            "|   |   |--- Right distance >  3.50\n",
            "|   |   |   |--- class: L\n",
            "\n"
          ]
        }
      ],
      "source": [
        "from sklearn.tree import export_text\n",
        "r = export_text(clf_model, feature_names=feature_names)\n",
        "print(r)"
      ]
    },
    {
      "cell_type": "code",
      "execution_count": 15,
      "id": "612c70db",
      "metadata": {
        "id": "612c70db",
        "colab": {
          "base_uri": "https://localhost:8080/",
          "height": 618
        },
        "outputId": "5d46f44d-bae2-4e01-c7bf-db5cb6d7281f"
      },
      "outputs": [
        {
          "output_type": "execute_result",
          "data": {
            "text/plain": [
              "<graphviz.files.Source at 0x7f4ecbe61cd0>"
            ],
            "image/svg+xml": "<?xml version=\"1.0\" encoding=\"UTF-8\" standalone=\"no\"?>\n<!DOCTYPE svg PUBLIC \"-//W3C//DTD SVG 1.1//EN\"\n \"http://www.w3.org/Graphics/SVG/1.1/DTD/svg11.dtd\">\n<!-- Generated by graphviz version 2.40.1 (20161225.0304)\n -->\n<!-- Title: Tree Pages: 1 -->\n<svg width=\"1142pt\" height=\"433pt\"\n viewBox=\"0.00 0.00 1142.00 433.00\" xmlns=\"http://www.w3.org/2000/svg\" xmlns:xlink=\"http://www.w3.org/1999/xlink\">\n<g id=\"graph0\" class=\"graph\" transform=\"scale(1 1) rotate(0) translate(4 429)\">\n<title>Tree</title>\n<polygon fill=\"#ffffff\" stroke=\"transparent\" points=\"-4,4 -4,-429 1138,-429 1138,4 -4,4\"/>\n<!-- 0 -->\n<g id=\"node1\" class=\"node\">\n<title>0</title>\n<path fill=\"#f7fefa\" stroke=\"#000000\" d=\"M612.5,-425C612.5,-425 480.5,-425 480.5,-425 474.5,-425 468.5,-419 468.5,-413 468.5,-413 468.5,-354 468.5,-354 468.5,-348 474.5,-342 480.5,-342 480.5,-342 612.5,-342 612.5,-342 618.5,-342 624.5,-348 624.5,-354 624.5,-354 624.5,-413 624.5,-413 624.5,-419 618.5,-425 612.5,-425\"/>\n<text text-anchor=\"start\" x=\"493.5\" y=\"-409.8\" font-family=\"Helvetica,sans-Serif\" font-size=\"14.00\" fill=\"#000000\">Left weight ≤ 2.5</text>\n<text text-anchor=\"start\" x=\"508.5\" y=\"-394.8\" font-family=\"Helvetica,sans-Serif\" font-size=\"14.00\" fill=\"#000000\">gini = 0.563</text>\n<text text-anchor=\"start\" x=\"498.5\" y=\"-379.8\" font-family=\"Helvetica,sans-Serif\" font-size=\"14.00\" fill=\"#000000\">samples = 437</text>\n<text text-anchor=\"start\" x=\"476.5\" y=\"-364.8\" font-family=\"Helvetica,sans-Serif\" font-size=\"14.00\" fill=\"#000000\">value = [31, 208, 198]</text>\n<text text-anchor=\"start\" x=\"516\" y=\"-349.8\" font-family=\"Helvetica,sans-Serif\" font-size=\"14.00\" fill=\"#000000\">class = R</text>\n</g>\n<!-- 1 -->\n<g id=\"node2\" class=\"node\">\n<title>1</title>\n<path fill=\"#b48af0\" stroke=\"#000000\" d=\"M468.5,-306C468.5,-306 344.5,-306 344.5,-306 338.5,-306 332.5,-300 332.5,-294 332.5,-294 332.5,-235 332.5,-235 332.5,-229 338.5,-223 344.5,-223 344.5,-223 468.5,-223 468.5,-223 474.5,-223 480.5,-229 480.5,-235 480.5,-235 480.5,-294 480.5,-294 480.5,-300 474.5,-306 468.5,-306\"/>\n<text text-anchor=\"start\" x=\"342.5\" y=\"-290.8\" font-family=\"Helvetica,sans-Serif\" font-size=\"14.00\" fill=\"#000000\">Right distance ≤ 1.5</text>\n<text text-anchor=\"start\" x=\"368.5\" y=\"-275.8\" font-family=\"Helvetica,sans-Serif\" font-size=\"14.00\" fill=\"#000000\">gini = 0.461</text>\n<text text-anchor=\"start\" x=\"358.5\" y=\"-260.8\" font-family=\"Helvetica,sans-Serif\" font-size=\"14.00\" fill=\"#000000\">samples = 171</text>\n<text text-anchor=\"start\" x=\"340.5\" y=\"-245.8\" font-family=\"Helvetica,sans-Serif\" font-size=\"14.00\" fill=\"#000000\">value = [12, 41, 118]</text>\n<text text-anchor=\"start\" x=\"377.5\" y=\"-230.8\" font-family=\"Helvetica,sans-Serif\" font-size=\"14.00\" fill=\"#000000\">class = L</text>\n</g>\n<!-- 0&#45;&gt;1 -->\n<g id=\"edge1\" class=\"edge\">\n<title>0&#45;&gt;1</title>\n<path fill=\"none\" stroke=\"#000000\" d=\"M497.5348,-341.8796C486.5153,-332.513 474.7291,-322.4948 463.4158,-312.8784\"/>\n<polygon fill=\"#000000\" stroke=\"#000000\" points=\"465.5604,-310.1078 455.6742,-306.2981 461.0268,-315.4414 465.5604,-310.1078\"/>\n<text text-anchor=\"middle\" x=\"457.6946\" y=\"-327.5163\" font-family=\"Helvetica,sans-Serif\" font-size=\"14.00\" fill=\"#000000\">True</text>\n</g>\n<!-- 8 -->\n<g id=\"node9\" class=\"node\">\n<title>8</title>\n<path fill=\"#a2f3c4\" stroke=\"#000000\" d=\"M759.5,-306C759.5,-306 635.5,-306 635.5,-306 629.5,-306 623.5,-300 623.5,-294 623.5,-294 623.5,-235 623.5,-235 623.5,-229 629.5,-223 635.5,-223 635.5,-223 759.5,-223 759.5,-223 765.5,-223 771.5,-229 771.5,-235 771.5,-235 771.5,-294 771.5,-294 771.5,-300 765.5,-306 759.5,-306\"/>\n<text text-anchor=\"start\" x=\"638.5\" y=\"-290.8\" font-family=\"Helvetica,sans-Serif\" font-size=\"14.00\" fill=\"#000000\">Left distance ≤ 2.5</text>\n<text text-anchor=\"start\" x=\"664\" y=\"-275.8\" font-family=\"Helvetica,sans-Serif\" font-size=\"14.00\" fill=\"#000000\">gini = 0.51</text>\n<text text-anchor=\"start\" x=\"649.5\" y=\"-260.8\" font-family=\"Helvetica,sans-Serif\" font-size=\"14.00\" fill=\"#000000\">samples = 266</text>\n<text text-anchor=\"start\" x=\"631.5\" y=\"-245.8\" font-family=\"Helvetica,sans-Serif\" font-size=\"14.00\" fill=\"#000000\">value = [19, 167, 80]</text>\n<text text-anchor=\"start\" x=\"667\" y=\"-230.8\" font-family=\"Helvetica,sans-Serif\" font-size=\"14.00\" fill=\"#000000\">class = R</text>\n</g>\n<!-- 0&#45;&gt;8 -->\n<g id=\"edge8\" class=\"edge\">\n<title>0&#45;&gt;8</title>\n<path fill=\"none\" stroke=\"#000000\" d=\"M599.3125,-341.8796C611.3818,-332.368 624.3039,-322.1843 636.6788,-312.432\"/>\n<polygon fill=\"#000000\" stroke=\"#000000\" points=\"639.0296,-315.0356 644.7173,-306.0969 634.6968,-309.5377 639.0296,-315.0356\"/>\n<text text-anchor=\"middle\" x=\"641.775\" y=\"-327.2232\" font-family=\"Helvetica,sans-Serif\" font-size=\"14.00\" fill=\"#000000\">False</text>\n</g>\n<!-- 2 -->\n<g id=\"node3\" class=\"node\">\n<title>2</title>\n<path fill=\"#94f1bb\" stroke=\"#000000\" d=\"M249.5,-187C249.5,-187 139.5,-187 139.5,-187 133.5,-187 127.5,-181 127.5,-175 127.5,-175 127.5,-116 127.5,-116 127.5,-110 133.5,-104 139.5,-104 139.5,-104 249.5,-104 249.5,-104 255.5,-104 261.5,-110 261.5,-116 261.5,-116 261.5,-175 261.5,-175 261.5,-181 255.5,-187 249.5,-187\"/>\n<text text-anchor=\"start\" x=\"135.5\" y=\"-171.8\" font-family=\"Helvetica,sans-Serif\" font-size=\"14.00\" fill=\"#000000\">Left distance ≤ 2.5</text>\n<text text-anchor=\"start\" x=\"156.5\" y=\"-156.8\" font-family=\"Helvetica,sans-Serif\" font-size=\"14.00\" fill=\"#000000\">gini = 0.498</text>\n<text text-anchor=\"start\" x=\"150.5\" y=\"-141.8\" font-family=\"Helvetica,sans-Serif\" font-size=\"14.00\" fill=\"#000000\">samples = 32</text>\n<text text-anchor=\"start\" x=\"141\" y=\"-126.8\" font-family=\"Helvetica,sans-Serif\" font-size=\"14.00\" fill=\"#000000\">value = [3, 21, 8]</text>\n<text text-anchor=\"start\" x=\"164\" y=\"-111.8\" font-family=\"Helvetica,sans-Serif\" font-size=\"14.00\" fill=\"#000000\">class = R</text>\n</g>\n<!-- 1&#45;&gt;2 -->\n<g id=\"edge2\" class=\"edge\">\n<title>1&#45;&gt;2</title>\n<path fill=\"none\" stroke=\"#000000\" d=\"M332.3527,-222.8796C312.2784,-211.6115 290.5239,-199.4002 270.3571,-188.0802\"/>\n<polygon fill=\"#000000\" stroke=\"#000000\" points=\"271.9523,-184.9619 261.519,-183.1192 268.526,-191.0661 271.9523,-184.9619\"/>\n</g>\n<!-- 5 -->\n<g id=\"node6\" class=\"node\">\n<title>5</title>\n<path fill=\"#a069eb\" stroke=\"#000000\" d=\"M464.5,-187C464.5,-187 348.5,-187 348.5,-187 342.5,-187 336.5,-181 336.5,-175 336.5,-175 336.5,-116 336.5,-116 336.5,-110 342.5,-104 348.5,-104 348.5,-104 464.5,-104 464.5,-104 470.5,-104 476.5,-110 476.5,-116 476.5,-116 476.5,-175 476.5,-175 476.5,-181 470.5,-187 464.5,-187\"/>\n<text text-anchor=\"start\" x=\"349\" y=\"-171.8\" font-family=\"Helvetica,sans-Serif\" font-size=\"14.00\" fill=\"#000000\">Right weight ≤ 2.5</text>\n<text text-anchor=\"start\" x=\"368.5\" y=\"-156.8\" font-family=\"Helvetica,sans-Serif\" font-size=\"14.00\" fill=\"#000000\">gini = 0.349</text>\n<text text-anchor=\"start\" x=\"358.5\" y=\"-141.8\" font-family=\"Helvetica,sans-Serif\" font-size=\"14.00\" fill=\"#000000\">samples = 139</text>\n<text text-anchor=\"start\" x=\"344.5\" y=\"-126.8\" font-family=\"Helvetica,sans-Serif\" font-size=\"14.00\" fill=\"#000000\">value = [9, 20, 110]</text>\n<text text-anchor=\"start\" x=\"377.5\" y=\"-111.8\" font-family=\"Helvetica,sans-Serif\" font-size=\"14.00\" fill=\"#000000\">class = L</text>\n</g>\n<!-- 1&#45;&gt;5 -->\n<g id=\"edge5\" class=\"edge\">\n<title>1&#45;&gt;5</title>\n<path fill=\"none\" stroke=\"#000000\" d=\"M406.5,-222.8796C406.5,-214.6838 406.5,-205.9891 406.5,-197.5013\"/>\n<polygon fill=\"#000000\" stroke=\"#000000\" points=\"410.0001,-197.298 406.5,-187.2981 403.0001,-197.2981 410.0001,-197.298\"/>\n</g>\n<!-- 3 -->\n<g id=\"node4\" class=\"node\">\n<title>3</title>\n<path fill=\"#e0cef8\" stroke=\"#000000\" d=\"M103,-68C103,-68 12,-68 12,-68 6,-68 0,-62 0,-56 0,-56 0,-12 0,-12 0,-6 6,0 12,0 12,0 103,0 103,0 109,0 115,-6 115,-12 115,-12 115,-56 115,-56 115,-62 109,-68 103,-68\"/>\n<text text-anchor=\"start\" x=\"19.5\" y=\"-52.8\" font-family=\"Helvetica,sans-Serif\" font-size=\"14.00\" fill=\"#000000\">gini = 0.611</text>\n<text text-anchor=\"start\" x=\"13.5\" y=\"-37.8\" font-family=\"Helvetica,sans-Serif\" font-size=\"14.00\" fill=\"#000000\">samples = 12</text>\n<text text-anchor=\"start\" x=\"8\" y=\"-22.8\" font-family=\"Helvetica,sans-Serif\" font-size=\"14.00\" fill=\"#000000\">value = [2, 4, 6]</text>\n<text text-anchor=\"start\" x=\"28.5\" y=\"-7.8\" font-family=\"Helvetica,sans-Serif\" font-size=\"14.00\" fill=\"#000000\">class = L</text>\n</g>\n<!-- 2&#45;&gt;3 -->\n<g id=\"edge3\" class=\"edge\">\n<title>2&#45;&gt;3</title>\n<path fill=\"none\" stroke=\"#000000\" d=\"M143.4863,-103.9815C131.742,-94.4232 119.2628,-84.2668 107.5595,-74.7419\"/>\n<polygon fill=\"#000000\" stroke=\"#000000\" points=\"109.565,-71.8614 99.5998,-68.2637 105.1464,-77.2906 109.565,-71.8614\"/>\n</g>\n<!-- 4 -->\n<g id=\"node5\" class=\"node\">\n<title>4</title>\n<path fill=\"#5ae996\" stroke=\"#000000\" d=\"M244,-68C244,-68 145,-68 145,-68 139,-68 133,-62 133,-56 133,-56 133,-12 133,-12 133,-6 139,0 145,0 145,0 244,0 244,0 250,0 256,-6 256,-12 256,-12 256,-56 256,-56 256,-62 250,-68 244,-68\"/>\n<text text-anchor=\"start\" x=\"156.5\" y=\"-52.8\" font-family=\"Helvetica,sans-Serif\" font-size=\"14.00\" fill=\"#000000\">gini = 0.265</text>\n<text text-anchor=\"start\" x=\"150.5\" y=\"-37.8\" font-family=\"Helvetica,sans-Serif\" font-size=\"14.00\" fill=\"#000000\">samples = 20</text>\n<text text-anchor=\"start\" x=\"141\" y=\"-22.8\" font-family=\"Helvetica,sans-Serif\" font-size=\"14.00\" fill=\"#000000\">value = [1, 17, 2]</text>\n<text text-anchor=\"start\" x=\"164\" y=\"-7.8\" font-family=\"Helvetica,sans-Serif\" font-size=\"14.00\" fill=\"#000000\">class = R</text>\n</g>\n<!-- 2&#45;&gt;4 -->\n<g id=\"edge4\" class=\"edge\">\n<title>2&#45;&gt;4</title>\n<path fill=\"none\" stroke=\"#000000\" d=\"M194.5,-103.9815C194.5,-95.618 194.5,-86.7965 194.5,-78.3409\"/>\n<polygon fill=\"#000000\" stroke=\"#000000\" points=\"198.0001,-78.2636 194.5,-68.2637 191.0001,-78.2637 198.0001,-78.2636\"/>\n</g>\n<!-- 6 -->\n<g id=\"node7\" class=\"node\">\n<title>6</title>\n<path fill=\"#dcc7f8\" stroke=\"#000000\" d=\"M393,-68C393,-68 286,-68 286,-68 280,-68 274,-62 274,-56 274,-56 274,-12 274,-12 274,-6 280,0 286,0 286,0 393,0 393,0 399,0 405,-6 405,-12 405,-12 405,-56 405,-56 405,-62 399,-68 393,-68\"/>\n<text text-anchor=\"start\" x=\"301.5\" y=\"-52.8\" font-family=\"Helvetica,sans-Serif\" font-size=\"14.00\" fill=\"#000000\">gini = 0.583</text>\n<text text-anchor=\"start\" x=\"295.5\" y=\"-37.8\" font-family=\"Helvetica,sans-Serif\" font-size=\"14.00\" fill=\"#000000\">samples = 49</text>\n<text text-anchor=\"start\" x=\"282\" y=\"-22.8\" font-family=\"Helvetica,sans-Serif\" font-size=\"14.00\" fill=\"#000000\">value = [6, 17, 26]</text>\n<text text-anchor=\"start\" x=\"310.5\" y=\"-7.8\" font-family=\"Helvetica,sans-Serif\" font-size=\"14.00\" fill=\"#000000\">class = L</text>\n</g>\n<!-- 5&#45;&gt;6 -->\n<g id=\"edge6\" class=\"edge\">\n<title>5&#45;&gt;6</title>\n<path fill=\"none\" stroke=\"#000000\" d=\"M381.5517,-103.9815C376.2499,-95.1585 370.6419,-85.8258 365.3089,-76.9506\"/>\n<polygon fill=\"#000000\" stroke=\"#000000\" points=\"368.2396,-75.0325 360.0889,-68.2637 362.2395,-78.638 368.2396,-75.0325\"/>\n</g>\n<!-- 7 -->\n<g id=\"node8\" class=\"node\">\n<title>7</title>\n<path fill=\"#8a47e7\" stroke=\"#000000\" d=\"M534,-68C534,-68 435,-68 435,-68 429,-68 423,-62 423,-56 423,-56 423,-12 423,-12 423,-6 429,0 435,0 435,0 534,0 534,0 540,0 546,-6 546,-12 546,-12 546,-56 546,-56 546,-62 540,-68 534,-68\"/>\n<text text-anchor=\"start\" x=\"446.5\" y=\"-52.8\" font-family=\"Helvetica,sans-Serif\" font-size=\"14.00\" fill=\"#000000\">gini = 0.127</text>\n<text text-anchor=\"start\" x=\"440.5\" y=\"-37.8\" font-family=\"Helvetica,sans-Serif\" font-size=\"14.00\" fill=\"#000000\">samples = 90</text>\n<text text-anchor=\"start\" x=\"431\" y=\"-22.8\" font-family=\"Helvetica,sans-Serif\" font-size=\"14.00\" fill=\"#000000\">value = [3, 3, 84]</text>\n<text text-anchor=\"start\" x=\"455.5\" y=\"-7.8\" font-family=\"Helvetica,sans-Serif\" font-size=\"14.00\" fill=\"#000000\">class = L</text>\n</g>\n<!-- 5&#45;&gt;7 -->\n<g id=\"edge7\" class=\"edge\">\n<title>5&#45;&gt;7</title>\n<path fill=\"none\" stroke=\"#000000\" d=\"M435.5443,-103.9815C441.7808,-95.0666 448.3813,-85.6313 454.6478,-76.6734\"/>\n<polygon fill=\"#000000\" stroke=\"#000000\" points=\"457.6665,-78.464 460.5308,-68.2637 451.9307,-74.4515 457.6665,-78.464\"/>\n</g>\n<!-- 9 -->\n<g id=\"node10\" class=\"node\">\n<title>9</title>\n<path fill=\"#dac5f7\" stroke=\"#000000\" d=\"M751,-187C751,-187 644,-187 644,-187 638,-187 632,-181 632,-175 632,-175 632,-116 632,-116 632,-110 638,-104 644,-104 644,-104 751,-104 751,-104 757,-104 763,-110 763,-116 763,-116 763,-175 763,-175 763,-181 757,-187 751,-187\"/>\n<text text-anchor=\"start\" x=\"640\" y=\"-171.8\" font-family=\"Helvetica,sans-Serif\" font-size=\"14.00\" fill=\"#000000\">Right weight ≤ 2.5</text>\n<text text-anchor=\"start\" x=\"659.5\" y=\"-156.8\" font-family=\"Helvetica,sans-Serif\" font-size=\"14.00\" fill=\"#000000\">gini = 0.544</text>\n<text text-anchor=\"start\" x=\"649.5\" y=\"-141.8\" font-family=\"Helvetica,sans-Serif\" font-size=\"14.00\" fill=\"#000000\">samples = 104</text>\n<text text-anchor=\"start\" x=\"640\" y=\"-126.8\" font-family=\"Helvetica,sans-Serif\" font-size=\"14.00\" fill=\"#000000\">value = [7, 39, 58]</text>\n<text text-anchor=\"start\" x=\"668.5\" y=\"-111.8\" font-family=\"Helvetica,sans-Serif\" font-size=\"14.00\" fill=\"#000000\">class = L</text>\n</g>\n<!-- 8&#45;&gt;9 -->\n<g id=\"edge9\" class=\"edge\">\n<title>8&#45;&gt;9</title>\n<path fill=\"none\" stroke=\"#000000\" d=\"M697.5,-222.8796C697.5,-214.6838 697.5,-205.9891 697.5,-197.5013\"/>\n<polygon fill=\"#000000\" stroke=\"#000000\" points=\"701.0001,-197.298 697.5,-187.2981 694.0001,-197.2981 701.0001,-197.298\"/>\n</g>\n<!-- 12 -->\n<g id=\"node13\" class=\"node\">\n<title>12</title>\n<path fill=\"#69eba0\" stroke=\"#000000\" d=\"M985.5,-187C985.5,-187 861.5,-187 861.5,-187 855.5,-187 849.5,-181 849.5,-175 849.5,-175 849.5,-116 849.5,-116 849.5,-110 855.5,-104 861.5,-104 861.5,-104 985.5,-104 985.5,-104 991.5,-104 997.5,-110 997.5,-116 997.5,-116 997.5,-175 997.5,-175 997.5,-181 991.5,-187 985.5,-187\"/>\n<text text-anchor=\"start\" x=\"859.5\" y=\"-171.8\" font-family=\"Helvetica,sans-Serif\" font-size=\"14.00\" fill=\"#000000\">Right distance ≤ 3.5</text>\n<text text-anchor=\"start\" x=\"885.5\" y=\"-156.8\" font-family=\"Helvetica,sans-Serif\" font-size=\"14.00\" fill=\"#000000\">gini = 0.352</text>\n<text text-anchor=\"start\" x=\"875.5\" y=\"-141.8\" font-family=\"Helvetica,sans-Serif\" font-size=\"14.00\" fill=\"#000000\">samples = 162</text>\n<text text-anchor=\"start\" x=\"857.5\" y=\"-126.8\" font-family=\"Helvetica,sans-Serif\" font-size=\"14.00\" fill=\"#000000\">value = [12, 128, 22]</text>\n<text text-anchor=\"start\" x=\"893\" y=\"-111.8\" font-family=\"Helvetica,sans-Serif\" font-size=\"14.00\" fill=\"#000000\">class = R</text>\n</g>\n<!-- 8&#45;&gt;12 -->\n<g id=\"edge12\" class=\"edge\">\n<title>8&#45;&gt;12</title>\n<path fill=\"none\" stroke=\"#000000\" d=\"M771.5009,-225.5349C793.5483,-213.9259 817.8535,-201.128 840.4389,-189.2357\"/>\n<polygon fill=\"#000000\" stroke=\"#000000\" points=\"842.1152,-192.3086 849.3329,-184.5526 838.8539,-186.1148 842.1152,-192.3086\"/>\n</g>\n<!-- 10 -->\n<g id=\"node11\" class=\"node\">\n<title>10</title>\n<path fill=\"#8df0b6\" stroke=\"#000000\" d=\"M683,-68C683,-68 576,-68 576,-68 570,-68 564,-62 564,-56 564,-56 564,-12 564,-12 564,-6 570,0 576,0 576,0 683,0 683,0 689,0 695,-6 695,-12 695,-12 695,-56 695,-56 695,-62 689,-68 683,-68\"/>\n<text text-anchor=\"start\" x=\"591.5\" y=\"-52.8\" font-family=\"Helvetica,sans-Serif\" font-size=\"14.00\" fill=\"#000000\">gini = 0.482</text>\n<text text-anchor=\"start\" x=\"585.5\" y=\"-37.8\" font-family=\"Helvetica,sans-Serif\" font-size=\"14.00\" fill=\"#000000\">samples = 43</text>\n<text text-anchor=\"start\" x=\"572\" y=\"-22.8\" font-family=\"Helvetica,sans-Serif\" font-size=\"14.00\" fill=\"#000000\">value = [4, 29, 10]</text>\n<text text-anchor=\"start\" x=\"599\" y=\"-7.8\" font-family=\"Helvetica,sans-Serif\" font-size=\"14.00\" fill=\"#000000\">class = R</text>\n</g>\n<!-- 9&#45;&gt;10 -->\n<g id=\"edge10\" class=\"edge\">\n<title>9&#45;&gt;10</title>\n<path fill=\"none\" stroke=\"#000000\" d=\"M672.1793,-103.9815C666.7984,-95.1585 661.1068,-85.8258 655.6941,-76.9506\"/>\n<polygon fill=\"#000000\" stroke=\"#000000\" points=\"658.5912,-74.9789 650.3962,-68.2637 652.6149,-78.6236 658.5912,-74.9789\"/>\n</g>\n<!-- 11 -->\n<g id=\"node12\" class=\"node\">\n<title>11</title>\n<path fill=\"#a16bec\" stroke=\"#000000\" d=\"M832,-68C832,-68 725,-68 725,-68 719,-68 713,-62 713,-56 713,-56 713,-12 713,-12 713,-6 719,0 725,0 725,0 832,0 832,0 838,0 844,-6 844,-12 844,-12 844,-56 844,-56 844,-62 838,-68 832,-68\"/>\n<text text-anchor=\"start\" x=\"740.5\" y=\"-52.8\" font-family=\"Helvetica,sans-Serif\" font-size=\"14.00\" fill=\"#000000\">gini = 0.352</text>\n<text text-anchor=\"start\" x=\"734.5\" y=\"-37.8\" font-family=\"Helvetica,sans-Serif\" font-size=\"14.00\" fill=\"#000000\">samples = 61</text>\n<text text-anchor=\"start\" x=\"721\" y=\"-22.8\" font-family=\"Helvetica,sans-Serif\" font-size=\"14.00\" fill=\"#000000\">value = [3, 10, 48]</text>\n<text text-anchor=\"start\" x=\"749.5\" y=\"-7.8\" font-family=\"Helvetica,sans-Serif\" font-size=\"14.00\" fill=\"#000000\">class = L</text>\n</g>\n<!-- 9&#45;&gt;11 -->\n<g id=\"edge11\" class=\"edge\">\n<title>9&#45;&gt;11</title>\n<path fill=\"none\" stroke=\"#000000\" d=\"M727.6614,-103.9815C734.2045,-94.9747 741.1334,-85.4367 747.7008,-76.3965\"/>\n<polygon fill=\"#000000\" stroke=\"#000000\" points=\"750.5631,-78.4113 753.6089,-68.2637 744.8998,-74.2971 750.5631,-78.4113\"/>\n</g>\n<!-- 13 -->\n<g id=\"node14\" class=\"node\">\n<title>13</title>\n<path fill=\"#47e78a\" stroke=\"#000000\" d=\"M973,-68C973,-68 874,-68 874,-68 868,-68 862,-62 862,-56 862,-56 862,-12 862,-12 862,-6 868,0 874,0 874,0 973,0 973,0 979,0 985,-6 985,-12 985,-12 985,-56 985,-56 985,-62 979,-68 973,-68\"/>\n<text text-anchor=\"start\" x=\"885.5\" y=\"-52.8\" font-family=\"Helvetica,sans-Serif\" font-size=\"14.00\" fill=\"#000000\">gini = 0.133</text>\n<text text-anchor=\"start\" x=\"875.5\" y=\"-37.8\" font-family=\"Helvetica,sans-Serif\" font-size=\"14.00\" fill=\"#000000\">samples = 100</text>\n<text text-anchor=\"start\" x=\"870\" y=\"-22.8\" font-family=\"Helvetica,sans-Serif\" font-size=\"14.00\" fill=\"#000000\">value = [4, 93, 3]</text>\n<text text-anchor=\"start\" x=\"893\" y=\"-7.8\" font-family=\"Helvetica,sans-Serif\" font-size=\"14.00\" fill=\"#000000\">class = R</text>\n</g>\n<!-- 12&#45;&gt;13 -->\n<g id=\"edge13\" class=\"edge\">\n<title>12&#45;&gt;13</title>\n<path fill=\"none\" stroke=\"#000000\" d=\"M923.5,-103.9815C923.5,-95.618 923.5,-86.7965 923.5,-78.3409\"/>\n<polygon fill=\"#000000\" stroke=\"#000000\" points=\"927.0001,-78.2636 923.5,-68.2637 920.0001,-78.2637 927.0001,-78.2636\"/>\n</g>\n<!-- 14 -->\n<g id=\"node15\" class=\"node\">\n<title>14</title>\n<path fill=\"#b5f5d0\" stroke=\"#000000\" d=\"M1122,-68C1122,-68 1015,-68 1015,-68 1009,-68 1003,-62 1003,-56 1003,-56 1003,-12 1003,-12 1003,-6 1009,0 1015,0 1015,0 1122,0 1122,0 1128,0 1134,-6 1134,-12 1134,-12 1134,-56 1134,-56 1134,-62 1128,-68 1122,-68\"/>\n<text text-anchor=\"start\" x=\"1030.5\" y=\"-52.8\" font-family=\"Helvetica,sans-Serif\" font-size=\"14.00\" fill=\"#000000\">gini = 0.571</text>\n<text text-anchor=\"start\" x=\"1024.5\" y=\"-37.8\" font-family=\"Helvetica,sans-Serif\" font-size=\"14.00\" fill=\"#000000\">samples = 62</text>\n<text text-anchor=\"start\" x=\"1011\" y=\"-22.8\" font-family=\"Helvetica,sans-Serif\" font-size=\"14.00\" fill=\"#000000\">value = [8, 35, 19]</text>\n<text text-anchor=\"start\" x=\"1038\" y=\"-7.8\" font-family=\"Helvetica,sans-Serif\" font-size=\"14.00\" fill=\"#000000\">class = R</text>\n</g>\n<!-- 12&#45;&gt;14 -->\n<g id=\"edge14\" class=\"edge\">\n<title>12&#45;&gt;14</title>\n<path fill=\"none\" stroke=\"#000000\" d=\"M977.4926,-103.9815C990.0422,-94.3313 1003.3847,-84.0714 1015.8744,-74.4673\"/>\n<polygon fill=\"#000000\" stroke=\"#000000\" points=\"1018.1481,-77.134 1023.9419,-68.2637 1013.881,-71.585 1018.1481,-77.134\"/>\n</g>\n</g>\n</svg>\n"
          },
          "metadata": {},
          "execution_count": 15
        }
      ],
      "source": [
        "from sklearn import tree\n",
        "import graphviz\n",
        "data=tree.export_graphviz(clf_model,out_file=None,feature_names=feature_names,class_names=target,filled=True,rounded=True,special_characters=True)\n",
        "graph=graphviz.Source(data)\n",
        "graph"
      ]
    }
  ],
  "metadata": {
    "kernelspec": {
      "display_name": "Python 3 (ipykernel)",
      "language": "python",
      "name": "python3"
    },
    "language_info": {
      "codemirror_mode": {
        "name": "ipython",
        "version": 3
      },
      "file_extension": ".py",
      "mimetype": "text/x-python",
      "name": "python",
      "nbconvert_exporter": "python",
      "pygments_lexer": "ipython3",
      "version": "3.9.13"
    },
    "colab": {
      "provenance": [],
      "include_colab_link": true
    }
  },
  "nbformat": 4,
  "nbformat_minor": 5
}