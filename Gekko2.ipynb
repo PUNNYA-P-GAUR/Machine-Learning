{
  "nbformat": 4,
  "nbformat_minor": 0,
  "metadata": {
    "colab": {
      "name": "Gekko2.ipynb",
      "provenance": [],
      "authorship_tag": "ABX9TyPYtJDOsQcGLINklb1BDMEJ",
      "include_colab_link": true
    },
    "kernelspec": {
      "name": "python3",
      "display_name": "Python 3"
    },
    "language_info": {
      "name": "python"
    }
  },
  "cells": [
    {
      "cell_type": "markdown",
      "metadata": {
        "id": "view-in-github",
        "colab_type": "text"
      },
      "source": [
        "<a href=\"https://colab.research.google.com/github/PUNNYA-P-GAUR/Machine-Learning/blob/main/Gekko2.ipynb\" target=\"_parent\"><img src=\"https://colab.research.google.com/assets/colab-badge.svg\" alt=\"Open In Colab\"/></a>"
      ]
    },
    {
      "cell_type": "code",
      "execution_count": 1,
      "metadata": {
        "colab": {
          "base_uri": "https://localhost:8080/",
          "height": 0
        },
        "id": "_QHp9WNRk5e0",
        "outputId": "d2596116-39c3-4ea3-fc9d-4d88440001cd"
      },
      "outputs": [
        {
          "output_type": "stream",
          "name": "stdout",
          "text": [
            "Collecting gekko\n",
            "  Downloading gekko-1.0.2-py3-none-any.whl (12.4 MB)\n",
            "\u001b[K     |████████████████████████████████| 12.4 MB 5.0 MB/s \n",
            "\u001b[?25hRequirement already satisfied: numpy>=1.8 in /usr/local/lib/python3.7/dist-packages (from gekko) (1.21.6)\n",
            "Installing collected packages: gekko\n",
            "Successfully installed gekko-1.0.2\n"
          ]
        }
      ],
      "source": [
        "pip install gekko\n"
      ]
    },
    {
      "cell_type": "code",
      "source": [
        "import numpy as np\n",
        "from gekko import GEKKO\n",
        "tm=np.linspace(0,20,100)\n",
        "m=GEKKO(remote=False)\n",
        "m.time=tm\n",
        "k=10\n",
        "y=m.Var(value=5.0)\n",
        "t=m.Param(value=tm)\n",
        "m.Equation(k*y.dt()==-t*y)\n",
        "m.options.IMODE=4\n",
        "m.solve(disp=False)\n"
      ],
      "metadata": {
        "id": "zBomCNqtlM7o"
      },
      "execution_count": 3,
      "outputs": []
    },
    {
      "cell_type": "code",
      "source": [
        "ya=5*np.exp(-tm**2/(2*k))"
      ],
      "metadata": {
        "id": "KbNH_bOslY0O"
      },
      "execution_count": 4,
      "outputs": []
    },
    {
      "cell_type": "code",
      "source": [
        "import matplotlib.pyplot as plt\n",
        "%matplotlib inline\n",
        "plt.plot(tm,ya,'r--', label='Analytical Solution')"
      ],
      "metadata": {
        "colab": {
          "base_uri": "https://localhost:8080/",
          "height": 283
        },
        "id": "U7NEchJglZq4",
        "outputId": "eda29658-e032-49e2-e090-ddfed05a7822"
      },
      "execution_count": 5,
      "outputs": [
        {
          "output_type": "execute_result",
          "data": {
            "text/plain": [
              "[<matplotlib.lines.Line2D at 0x7f3054f3fd10>]"
            ]
          },
          "metadata": {},
          "execution_count": 5
        },
        {
          "output_type": "display_data",
          "data": {
            "text/plain": [
              "<Figure size 432x288 with 1 Axes>"
            ],
            "image/png": "[encoded data removed]"
          },
          "metadata": {
            "needs_background": "light"
          }
        }
      ]
    }
  ]
}